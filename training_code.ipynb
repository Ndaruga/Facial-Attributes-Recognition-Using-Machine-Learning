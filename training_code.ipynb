{
 "cells": [
  {
   "cell_type": "code",
   "execution_count": 1,
   "metadata": {
    "id": "7BkFpGDIBER9"
   },
   "outputs": [],
   "source": [
    "names = []\n",
    "with open('/content/image_names.txt') as f:\n",
    "  names = (f.readlines())\n",
    "names = [x.strip() for x in names] "
   ]
  },
  {
   "cell_type": "code",
   "execution_count": 2,
   "metadata": {
    "colab": {
     "base_uri": "https://localhost:8080/"
    },
    "id": "YIr5PHbJPyyY",
    "outputId": "bfa11030-5c8c-4fe6-9ea5-8636ae0e988e"
   },
   "outputs": [
    {
     "data": {
      "text/plain": [
       "1666"
      ]
     },
     "execution_count": 2,
     "metadata": {
      "tags": []
     },
     "output_type": "execute_result"
    }
   ],
   "source": [
    "len(names)"
   ]
  },
  {
   "cell_type": "code",
   "execution_count": 3,
   "metadata": {
    "id": "_uBLiNX0T-5k"
   },
   "outputs": [],
   "source": [
    "anot = []\n",
    "with open('/content/image_anotation_list.txt') as f:\n",
    "  anot=(f.readlines())\n",
    "anot = [x.strip() for x in anot] "
   ]
  },
  {
   "cell_type": "code",
   "execution_count": 4,
   "metadata": {
    "colab": {
     "base_uri": "https://localhost:8080/"
    },
    "id": "Rc1t-0nwVmv1",
    "outputId": "e0b2c9f4-acb7-44b6-832b-387e91d3f28a"
   },
   "outputs": [
    {
     "data": {
      "text/plain": [
       "array([['C:/Users/MyPc/Desktop/python projects/vol/deform/dk15/attribute_db/emotionet_5/first_50000\\\\emotionet_5_first_50000_49777.jpg'],\n",
       "       ['C:/Users/MyPc/Desktop/python projects/vol/deform/dk15/attribute_db/emotionet_5/first_50000\\\\emotionet_5_first_50000_49779.jpg'],\n",
       "       ['C:/Users/MyPc/Desktop/python projects/vol/deform/dk15/attribute_db/emotionet_5/first_50000\\\\emotionet_5_first_50000_49812.jpg'],\n",
       "       ['C:/Users/MyPc/Desktop/python projects/vol/deform/dk15/attribute_db/emotionet_5/first_50000\\\\emotionet_5_first_50000_49815.jpg'],\n",
       "       ['C:/Users/MyPc/Desktop/python projects/vol/deform/dk15/attribute_db/emotionet_5/first_50000\\\\emotionet_5_first_50000_49860.jpg'],\n",
       "       ['C:/Users/MyPc/Desktop/python projects/vol/deform/dk15/attribute_db/emotionet_5/first_50000\\\\emotionet_5_first_50000_49867.jpg'],\n",
       "       ['C:/Users/MyPc/Desktop/python projects/vol/deform/dk15/attribute_db/emotionet_5/first_50000\\\\emotionet_5_first_50000_49936.jpg'],\n",
       "       ['C:/Users/MyPc/Desktop/python projects/vol/deform/dk15/attribute_db/emotionet_5/first_50000\\\\emotionet_5_first_50000_49938.jpg'],\n",
       "       ['C:/Users/MyPc/Desktop/python projects/vol/deform/dk15/attribute_db/emotionet_5/first_50000\\\\emotionet_5_first_50000_49992.jpg'],\n",
       "       ['C:/Users/MyPc/Desktop/python projects/vol/deform/dk15/attribute_db/emotionet_5/first_50000\\\\emotionet_5_first_50000_49995.jpg']],\n",
       "      dtype=object)"
      ]
     },
     "execution_count": 4,
     "metadata": {
      "tags": []
     },
     "output_type": "execute_result"
    }
   ],
   "source": [
    "import pandas as pd\n",
    "n_df = pd.read_csv('/content/image_names.txt',delimiter = '\\t',header=None,names=['image'])\n",
    "n_df.values[-10:]"
   ]
  },
  {
   "cell_type": "code",
   "execution_count": 5,
   "metadata": {
    "colab": {
     "base_uri": "https://localhost:8080/",
     "height": 363
    },
    "id": "-qWic3zcahr0",
    "outputId": "5923722d-f9d8-49e8-f7f0-e62948a668c4"
   },
   "outputs": [
    {
     "data": {
      "text/html": [
       "<div>\n",
       "<style scoped>\n",
       "    .dataframe tbody tr th:only-of-type {\n",
       "        vertical-align: middle;\n",
       "    }\n",
       "\n",
       "    .dataframe tbody tr th {\n",
       "        vertical-align: top;\n",
       "    }\n",
       "\n",
       "    .dataframe thead th {\n",
       "        text-align: right;\n",
       "    }\n",
       "</style>\n",
       "<table border=\"1\" class=\"dataframe\">\n",
       "  <thead>\n",
       "    <tr style=\"text-align: right;\">\n",
       "      <th></th>\n",
       "      <th>No</th>\n",
       "      <th>Image_Name</th>\n",
       "      <th>Wrinkles</th>\n",
       "      <th>Freakles</th>\n",
       "      <th>Glasses</th>\n",
       "      <th>Hair_color</th>\n",
       "      <th>Hair_Top</th>\n",
       "      <th>No face</th>\n",
       "      <th>Hair visibility</th>\n",
       "    </tr>\n",
       "  </thead>\n",
       "  <tbody>\n",
       "    <tr>\n",
       "      <th>0</th>\n",
       "      <td>1</td>\n",
       "      <td>seventh_50000_2.jpg</td>\n",
       "      <td>0</td>\n",
       "      <td>0</td>\n",
       "      <td>0</td>\n",
       "      <td>6</td>\n",
       "      <td>3</td>\n",
       "      <td>0</td>\n",
       "      <td>1</td>\n",
       "    </tr>\n",
       "    <tr>\n",
       "      <th>1</th>\n",
       "      <td>2</td>\n",
       "      <td>seventh_50000_2L28SACDcover2000.jpg</td>\n",
       "      <td>0</td>\n",
       "      <td>0</td>\n",
       "      <td>0</td>\n",
       "      <td>1</td>\n",
       "      <td>3</td>\n",
       "      <td>0</td>\n",
       "      <td>1</td>\n",
       "    </tr>\n",
       "    <tr>\n",
       "      <th>2</th>\n",
       "      <td>3</td>\n",
       "      <td>seventh_50000_3c6d58ee5d089858e58a41cd5bf7c9a9...</td>\n",
       "      <td>0</td>\n",
       "      <td>0</td>\n",
       "      <td>0</td>\n",
       "      <td>0</td>\n",
       "      <td>3</td>\n",
       "      <td>0</td>\n",
       "      <td>1</td>\n",
       "    </tr>\n",
       "    <tr>\n",
       "      <th>3</th>\n",
       "      <td>4</td>\n",
       "      <td>seventh_50000_3dc26f78a45b73c0218645ccf5f15ac4...</td>\n",
       "      <td>0</td>\n",
       "      <td>0</td>\n",
       "      <td>0</td>\n",
       "      <td>1</td>\n",
       "      <td>3</td>\n",
       "      <td>0</td>\n",
       "      <td>1</td>\n",
       "    </tr>\n",
       "    <tr>\n",
       "      <th>4</th>\n",
       "      <td>5</td>\n",
       "      <td>seventh_50000_5.jpg</td>\n",
       "      <td>0</td>\n",
       "      <td>0</td>\n",
       "      <td>0</td>\n",
       "      <td>3</td>\n",
       "      <td>3</td>\n",
       "      <td>0</td>\n",
       "      <td>1</td>\n",
       "    </tr>\n",
       "    <tr>\n",
       "      <th>5</th>\n",
       "      <td>6</td>\n",
       "      <td>seventh_50000_44d26b419229834542b2ea78ddca9422...</td>\n",
       "      <td>0</td>\n",
       "      <td>0</td>\n",
       "      <td>0</td>\n",
       "      <td>0</td>\n",
       "      <td>0</td>\n",
       "      <td>1</td>\n",
       "      <td>1</td>\n",
       "    </tr>\n",
       "    <tr>\n",
       "      <th>6</th>\n",
       "      <td>7</td>\n",
       "      <td>seventh_50000_58ae400482bde1dccf61c66881093b68...</td>\n",
       "      <td>0</td>\n",
       "      <td>0</td>\n",
       "      <td>0</td>\n",
       "      <td>4</td>\n",
       "      <td>3</td>\n",
       "      <td>0</td>\n",
       "      <td>1</td>\n",
       "    </tr>\n",
       "    <tr>\n",
       "      <th>7</th>\n",
       "      <td>8</td>\n",
       "      <td>seventh_50000_140px-Andre-marie-ampere2.jpg</td>\n",
       "      <td>1</td>\n",
       "      <td>0</td>\n",
       "      <td>1</td>\n",
       "      <td>2</td>\n",
       "      <td>3</td>\n",
       "      <td>0</td>\n",
       "      <td>1</td>\n",
       "    </tr>\n",
       "    <tr>\n",
       "      <th>8</th>\n",
       "      <td>9</td>\n",
       "      <td>seventh_50000_288.JPG</td>\n",
       "      <td>1</td>\n",
       "      <td>0</td>\n",
       "      <td>0</td>\n",
       "      <td>8</td>\n",
       "      <td>3</td>\n",
       "      <td>0</td>\n",
       "      <td>1</td>\n",
       "    </tr>\n",
       "    <tr>\n",
       "      <th>9</th>\n",
       "      <td>10</td>\n",
       "      <td>seventh_50000_322e2885a172a3638db54358dace09ac...</td>\n",
       "      <td>0</td>\n",
       "      <td>0</td>\n",
       "      <td>0</td>\n",
       "      <td>4</td>\n",
       "      <td>3</td>\n",
       "      <td>0</td>\n",
       "      <td>1</td>\n",
       "    </tr>\n",
       "  </tbody>\n",
       "</table>\n",
       "</div>"
      ],
      "text/plain": [
       "   No  ... Hair visibility\n",
       "0   1  ...               1\n",
       "1   2  ...               1\n",
       "2   3  ...               1\n",
       "3   4  ...               1\n",
       "4   5  ...               1\n",
       "5   6  ...               1\n",
       "6   7  ...               1\n",
       "7   8  ...               1\n",
       "8   9  ...               1\n",
       "9  10  ...               1\n",
       "\n",
       "[10 rows x 9 columns]"
      ]
     },
     "execution_count": 5,
     "metadata": {
      "tags": []
     },
     "output_type": "execute_result"
    }
   ],
   "source": [
    "import pandas as pd\n",
    "df = pd.read_csv('annotations.csv')\n",
    "df.head(10)"
   ]
  },
  {
   "cell_type": "code",
   "execution_count": 6,
   "metadata": {
    "colab": {
     "base_uri": "https://localhost:8080/",
     "height": 363
    },
    "id": "8_jbbS8iUC5x",
    "outputId": "f38255e5-7629-4bb2-baf5-3ebf84754ba9"
   },
   "outputs": [
    {
     "data": {
      "text/html": [
       "<div>\n",
       "<style scoped>\n",
       "    .dataframe tbody tr th:only-of-type {\n",
       "        vertical-align: middle;\n",
       "    }\n",
       "\n",
       "    .dataframe tbody tr th {\n",
       "        vertical-align: top;\n",
       "    }\n",
       "\n",
       "    .dataframe thead th {\n",
       "        text-align: right;\n",
       "    }\n",
       "</style>\n",
       "<table border=\"1\" class=\"dataframe\">\n",
       "  <thead>\n",
       "    <tr style=\"text-align: right;\">\n",
       "      <th></th>\n",
       "      <th>No</th>\n",
       "      <th>Image_Name</th>\n",
       "      <th>Wrinkles</th>\n",
       "      <th>Freakles</th>\n",
       "      <th>Glasses</th>\n",
       "      <th>Hair_color</th>\n",
       "      <th>Hair_Top</th>\n",
       "      <th>No face</th>\n",
       "      <th>Hair visibility</th>\n",
       "    </tr>\n",
       "  </thead>\n",
       "  <tbody>\n",
       "    <tr>\n",
       "      <th>1656</th>\n",
       "      <td>1657</td>\n",
       "      <td>first_50000_49777.jpg</td>\n",
       "      <td>0</td>\n",
       "      <td>0</td>\n",
       "      <td>0</td>\n",
       "      <td>0</td>\n",
       "      <td>3</td>\n",
       "      <td>0</td>\n",
       "      <td>1</td>\n",
       "    </tr>\n",
       "    <tr>\n",
       "      <th>1657</th>\n",
       "      <td>1658</td>\n",
       "      <td>first_50000_49779.jpg</td>\n",
       "      <td>0</td>\n",
       "      <td>0</td>\n",
       "      <td>2</td>\n",
       "      <td>1</td>\n",
       "      <td>3</td>\n",
       "      <td>0</td>\n",
       "      <td>1</td>\n",
       "    </tr>\n",
       "    <tr>\n",
       "      <th>1658</th>\n",
       "      <td>1659</td>\n",
       "      <td>first_50000_49812.jpg</td>\n",
       "      <td>0</td>\n",
       "      <td>0</td>\n",
       "      <td>0</td>\n",
       "      <td>0</td>\n",
       "      <td>2</td>\n",
       "      <td>0</td>\n",
       "      <td>1</td>\n",
       "    </tr>\n",
       "    <tr>\n",
       "      <th>1659</th>\n",
       "      <td>1660</td>\n",
       "      <td>first_50000_49815.jpg</td>\n",
       "      <td>0</td>\n",
       "      <td>0</td>\n",
       "      <td>1</td>\n",
       "      <td>1</td>\n",
       "      <td>3</td>\n",
       "      <td>0</td>\n",
       "      <td>1</td>\n",
       "    </tr>\n",
       "    <tr>\n",
       "      <th>1660</th>\n",
       "      <td>1661</td>\n",
       "      <td>first_50000_49860.jpg</td>\n",
       "      <td>0</td>\n",
       "      <td>0</td>\n",
       "      <td>0</td>\n",
       "      <td>1</td>\n",
       "      <td>2</td>\n",
       "      <td>0</td>\n",
       "      <td>1</td>\n",
       "    </tr>\n",
       "    <tr>\n",
       "      <th>1661</th>\n",
       "      <td>1662</td>\n",
       "      <td>first_50000_49867.jpg</td>\n",
       "      <td>0</td>\n",
       "      <td>0</td>\n",
       "      <td>0</td>\n",
       "      <td>0</td>\n",
       "      <td>3</td>\n",
       "      <td>0</td>\n",
       "      <td>1</td>\n",
       "    </tr>\n",
       "    <tr>\n",
       "      <th>1662</th>\n",
       "      <td>1663</td>\n",
       "      <td>first_50000_49936.jpg</td>\n",
       "      <td>0</td>\n",
       "      <td>1</td>\n",
       "      <td>0</td>\n",
       "      <td>1</td>\n",
       "      <td>3</td>\n",
       "      <td>0</td>\n",
       "      <td>1</td>\n",
       "    </tr>\n",
       "    <tr>\n",
       "      <th>1663</th>\n",
       "      <td>1664</td>\n",
       "      <td>first_50000_49938.jpg</td>\n",
       "      <td>0</td>\n",
       "      <td>0</td>\n",
       "      <td>0</td>\n",
       "      <td>6</td>\n",
       "      <td>3</td>\n",
       "      <td>0</td>\n",
       "      <td>1</td>\n",
       "    </tr>\n",
       "    <tr>\n",
       "      <th>1664</th>\n",
       "      <td>1665</td>\n",
       "      <td>first_50000_49992.jpg</td>\n",
       "      <td>0</td>\n",
       "      <td>1</td>\n",
       "      <td>0</td>\n",
       "      <td>6</td>\n",
       "      <td>3</td>\n",
       "      <td>0</td>\n",
       "      <td>1</td>\n",
       "    </tr>\n",
       "    <tr>\n",
       "      <th>1665</th>\n",
       "      <td>1666</td>\n",
       "      <td>first_50000_49995.jpg</td>\n",
       "      <td>0</td>\n",
       "      <td>0</td>\n",
       "      <td>0</td>\n",
       "      <td>7</td>\n",
       "      <td>3</td>\n",
       "      <td>0</td>\n",
       "      <td>1</td>\n",
       "    </tr>\n",
       "  </tbody>\n",
       "</table>\n",
       "</div>"
      ],
      "text/plain": [
       "        No             Image_Name  Wrinkles  ...  Hair_Top  No face  Hair visibility\n",
       "1656  1657  first_50000_49777.jpg         0  ...         3        0                1\n",
       "1657  1658  first_50000_49779.jpg         0  ...         3        0                1\n",
       "1658  1659  first_50000_49812.jpg         0  ...         2        0                1\n",
       "1659  1660  first_50000_49815.jpg         0  ...         3        0                1\n",
       "1660  1661  first_50000_49860.jpg         0  ...         2        0                1\n",
       "1661  1662  first_50000_49867.jpg         0  ...         3        0                1\n",
       "1662  1663  first_50000_49936.jpg         0  ...         3        0                1\n",
       "1663  1664  first_50000_49938.jpg         0  ...         3        0                1\n",
       "1664  1665  first_50000_49992.jpg         0  ...         3        0                1\n",
       "1665  1666  first_50000_49995.jpg         0  ...         3        0                1\n",
       "\n",
       "[10 rows x 9 columns]"
      ]
     },
     "execution_count": 6,
     "metadata": {
      "tags": []
     },
     "output_type": "execute_result"
    }
   ],
   "source": [
    "df.tail(10)"
   ]
  },
  {
   "cell_type": "code",
   "execution_count": 7,
   "metadata": {
    "colab": {
     "base_uri": "https://localhost:8080/"
    },
    "id": "_FFZrbx-P_HI",
    "outputId": "06e87e44-6945-41b2-91ab-0fc1c92e4b0b"
   },
   "outputs": [
    {
     "data": {
      "text/plain": [
       "Index(['No', 'Image_Name', 'Wrinkles', 'Freakles', 'Glasses', 'Hair_color',\n",
       "       'Hair_Top', 'No face', 'Hair visibility'],\n",
       "      dtype='object')"
      ]
     },
     "execution_count": 7,
     "metadata": {
      "tags": []
     },
     "output_type": "execute_result"
    }
   ],
   "source": [
    "df.columns"
   ]
  },
  {
   "cell_type": "code",
   "execution_count": 8,
   "metadata": {
    "colab": {
     "base_uri": "https://localhost:8080/"
    },
    "id": "zss8wx8uTvlP",
    "outputId": "c4915d14-2743-436b-a03c-b7e0b4e36c44"
   },
   "outputs": [
    {
     "data": {
      "text/plain": [
       "1666"
      ]
     },
     "execution_count": 8,
     "metadata": {
      "tags": []
     },
     "output_type": "execute_result"
    }
   ],
   "source": [
    "len(names)"
   ]
  },
  {
   "cell_type": "code",
   "execution_count": 9,
   "metadata": {
    "id": "2-xfdIXDBVIJ"
   },
   "outputs": [],
   "source": [
    "df['Image_Name'] =n_df"
   ]
  },
  {
   "cell_type": "code",
   "execution_count": 10,
   "metadata": {
    "colab": {
     "base_uri": "https://localhost:8080/",
     "height": 206
    },
    "id": "1lxfxL-sPTxe",
    "outputId": "182f529e-4c1e-4287-ebfe-69b04d5800ea"
   },
   "outputs": [
    {
     "data": {
      "text/html": [
       "<div>\n",
       "<style scoped>\n",
       "    .dataframe tbody tr th:only-of-type {\n",
       "        vertical-align: middle;\n",
       "    }\n",
       "\n",
       "    .dataframe tbody tr th {\n",
       "        vertical-align: top;\n",
       "    }\n",
       "\n",
       "    .dataframe thead th {\n",
       "        text-align: right;\n",
       "    }\n",
       "</style>\n",
       "<table border=\"1\" class=\"dataframe\">\n",
       "  <thead>\n",
       "    <tr style=\"text-align: right;\">\n",
       "      <th></th>\n",
       "      <th>No</th>\n",
       "      <th>Image_Name</th>\n",
       "      <th>Wrinkles</th>\n",
       "      <th>Freakles</th>\n",
       "      <th>Glasses</th>\n",
       "      <th>Hair_color</th>\n",
       "      <th>Hair_Top</th>\n",
       "      <th>No face</th>\n",
       "      <th>Hair visibility</th>\n",
       "    </tr>\n",
       "  </thead>\n",
       "  <tbody>\n",
       "    <tr>\n",
       "      <th>0</th>\n",
       "      <td>1</td>\n",
       "      <td>C:/Users/MyPc/Desktop/python projects/vol/defo...</td>\n",
       "      <td>0</td>\n",
       "      <td>0</td>\n",
       "      <td>0</td>\n",
       "      <td>6</td>\n",
       "      <td>3</td>\n",
       "      <td>0</td>\n",
       "      <td>1</td>\n",
       "    </tr>\n",
       "    <tr>\n",
       "      <th>1</th>\n",
       "      <td>2</td>\n",
       "      <td>C:/Users/MyPc/Desktop/python projects/vol/defo...</td>\n",
       "      <td>0</td>\n",
       "      <td>0</td>\n",
       "      <td>0</td>\n",
       "      <td>1</td>\n",
       "      <td>3</td>\n",
       "      <td>0</td>\n",
       "      <td>1</td>\n",
       "    </tr>\n",
       "    <tr>\n",
       "      <th>2</th>\n",
       "      <td>3</td>\n",
       "      <td>C:/Users/MyPc/Desktop/python projects/vol/defo...</td>\n",
       "      <td>0</td>\n",
       "      <td>0</td>\n",
       "      <td>0</td>\n",
       "      <td>0</td>\n",
       "      <td>3</td>\n",
       "      <td>0</td>\n",
       "      <td>1</td>\n",
       "    </tr>\n",
       "    <tr>\n",
       "      <th>3</th>\n",
       "      <td>4</td>\n",
       "      <td>C:/Users/MyPc/Desktop/python projects/vol/defo...</td>\n",
       "      <td>0</td>\n",
       "      <td>0</td>\n",
       "      <td>0</td>\n",
       "      <td>1</td>\n",
       "      <td>3</td>\n",
       "      <td>0</td>\n",
       "      <td>1</td>\n",
       "    </tr>\n",
       "    <tr>\n",
       "      <th>4</th>\n",
       "      <td>5</td>\n",
       "      <td>C:/Users/MyPc/Desktop/python projects/vol/defo...</td>\n",
       "      <td>0</td>\n",
       "      <td>0</td>\n",
       "      <td>0</td>\n",
       "      <td>3</td>\n",
       "      <td>3</td>\n",
       "      <td>0</td>\n",
       "      <td>1</td>\n",
       "    </tr>\n",
       "  </tbody>\n",
       "</table>\n",
       "</div>"
      ],
      "text/plain": [
       "   No  ... Hair visibility\n",
       "0   1  ...               1\n",
       "1   2  ...               1\n",
       "2   3  ...               1\n",
       "3   4  ...               1\n",
       "4   5  ...               1\n",
       "\n",
       "[5 rows x 9 columns]"
      ]
     },
     "execution_count": 10,
     "metadata": {
      "tags": []
     },
     "output_type": "execute_result"
    }
   ],
   "source": [
    "df.head()"
   ]
  },
  {
   "cell_type": "code",
   "execution_count": 11,
   "metadata": {
    "colab": {
     "base_uri": "https://localhost:8080/",
     "height": 206
    },
    "id": "AV6D906fBcCK",
    "outputId": "b712896b-9a78-40a1-9f25-1cadbda279ec"
   },
   "outputs": [
    {
     "data": {
      "text/html": [
       "<div>\n",
       "<style scoped>\n",
       "    .dataframe tbody tr th:only-of-type {\n",
       "        vertical-align: middle;\n",
       "    }\n",
       "\n",
       "    .dataframe tbody tr th {\n",
       "        vertical-align: top;\n",
       "    }\n",
       "\n",
       "    .dataframe thead th {\n",
       "        text-align: right;\n",
       "    }\n",
       "</style>\n",
       "<table border=\"1\" class=\"dataframe\">\n",
       "  <thead>\n",
       "    <tr style=\"text-align: right;\">\n",
       "      <th></th>\n",
       "      <th>No</th>\n",
       "      <th>Image_Name</th>\n",
       "      <th>Wrinkles</th>\n",
       "      <th>Freakles</th>\n",
       "      <th>Glasses</th>\n",
       "      <th>Hair_color</th>\n",
       "      <th>Hair_Top</th>\n",
       "      <th>No face</th>\n",
       "      <th>Hair visibility</th>\n",
       "    </tr>\n",
       "  </thead>\n",
       "  <tbody>\n",
       "    <tr>\n",
       "      <th>1661</th>\n",
       "      <td>1662</td>\n",
       "      <td>C:/Users/MyPc/Desktop/python projects/vol/defo...</td>\n",
       "      <td>0</td>\n",
       "      <td>0</td>\n",
       "      <td>0</td>\n",
       "      <td>0</td>\n",
       "      <td>3</td>\n",
       "      <td>0</td>\n",
       "      <td>1</td>\n",
       "    </tr>\n",
       "    <tr>\n",
       "      <th>1662</th>\n",
       "      <td>1663</td>\n",
       "      <td>C:/Users/MyPc/Desktop/python projects/vol/defo...</td>\n",
       "      <td>0</td>\n",
       "      <td>1</td>\n",
       "      <td>0</td>\n",
       "      <td>1</td>\n",
       "      <td>3</td>\n",
       "      <td>0</td>\n",
       "      <td>1</td>\n",
       "    </tr>\n",
       "    <tr>\n",
       "      <th>1663</th>\n",
       "      <td>1664</td>\n",
       "      <td>C:/Users/MyPc/Desktop/python projects/vol/defo...</td>\n",
       "      <td>0</td>\n",
       "      <td>0</td>\n",
       "      <td>0</td>\n",
       "      <td>6</td>\n",
       "      <td>3</td>\n",
       "      <td>0</td>\n",
       "      <td>1</td>\n",
       "    </tr>\n",
       "    <tr>\n",
       "      <th>1664</th>\n",
       "      <td>1665</td>\n",
       "      <td>C:/Users/MyPc/Desktop/python projects/vol/defo...</td>\n",
       "      <td>0</td>\n",
       "      <td>1</td>\n",
       "      <td>0</td>\n",
       "      <td>6</td>\n",
       "      <td>3</td>\n",
       "      <td>0</td>\n",
       "      <td>1</td>\n",
       "    </tr>\n",
       "    <tr>\n",
       "      <th>1665</th>\n",
       "      <td>1666</td>\n",
       "      <td>C:/Users/MyPc/Desktop/python projects/vol/defo...</td>\n",
       "      <td>0</td>\n",
       "      <td>0</td>\n",
       "      <td>0</td>\n",
       "      <td>7</td>\n",
       "      <td>3</td>\n",
       "      <td>0</td>\n",
       "      <td>1</td>\n",
       "    </tr>\n",
       "  </tbody>\n",
       "</table>\n",
       "</div>"
      ],
      "text/plain": [
       "        No  ... Hair visibility\n",
       "1661  1662  ...               1\n",
       "1662  1663  ...               1\n",
       "1663  1664  ...               1\n",
       "1664  1665  ...               1\n",
       "1665  1666  ...               1\n",
       "\n",
       "[5 rows x 9 columns]"
      ]
     },
     "execution_count": 11,
     "metadata": {
      "tags": []
     },
     "output_type": "execute_result"
    }
   ],
   "source": [
    "df.tail()"
   ]
  },
  {
   "cell_type": "code",
   "execution_count": 12,
   "metadata": {
    "id": "1dK2h5nwBk8o"
   },
   "outputs": [],
   "source": [
    "df['Image_Name'] = df['Image_Name'].str.split('/')\n",
    "df['Image_Name'] = df['Image_Name'].apply( lambda x : x[5:])"
   ]
  },
  {
   "cell_type": "code",
   "execution_count": 12,
   "metadata": {
    "id": "wg2nxIMSCca2"
   },
   "outputs": [],
   "source": []
  },
  {
   "cell_type": "code",
   "execution_count": 13,
   "metadata": {
    "id": "tADfm0XXEmrO"
   },
   "outputs": [],
   "source": [
    "df['Image_Name']= df['Image_Name'].apply(lambda x : '/'.join(x))\n",
    "df['Image_Name']= df['Image_Name'].str.replace('\\\\','/',regex=False)"
   ]
  },
  {
   "cell_type": "code",
   "execution_count": 14,
   "metadata": {
    "colab": {
     "base_uri": "https://localhost:8080/"
    },
    "id": "ppz3E-HpEy8q",
    "outputId": "e41a7eb9-dc8c-4266-93c4-0e641f51a60b"
   },
   "outputs": [
    {
     "data": {
      "text/plain": [
       "array(['vol/deform/dk15/attribute_db/emotionet_5/first_50000/emotionet_4_seventh_50000_2.jpg',\n",
       "       'vol/deform/dk15/attribute_db/emotionet_5/first_50000/emotionet_4_seventh_50000_2L28SACDcover2000.jpg',\n",
       "       'vol/deform/dk15/attribute_db/emotionet_5/first_50000/emotionet_4_seventh_50000_3c6d58ee5d089858e58a41cd5bf7c9a973e0847e.jpg',\n",
       "       'vol/deform/dk15/attribute_db/emotionet_5/first_50000/emotionet_4_seventh_50000_3dc26f78a45b73c0218645ccf5f15ac4.jpg',\n",
       "       'vol/deform/dk15/attribute_db/emotionet_5/first_50000/emotionet_4_seventh_50000_5.jpg',\n",
       "       'vol/deform/dk15/attribute_db/emotionet_5/first_50000/emotionet_4_seventh_50000_44d26b419229834542b2ea78ddca9422.jpg',\n",
       "       'vol/deform/dk15/attribute_db/emotionet_5/first_50000/emotionet_4_seventh_50000_58ae400482bde1dccf61c66881093b68.jpg',\n",
       "       'vol/deform/dk15/attribute_db/emotionet_5/first_50000/emotionet_4_seventh_50000_140px-Andre-marie-ampere2.jpg',\n",
       "       'vol/deform/dk15/attribute_db/emotionet_5/first_50000/emotionet_4_seventh_50000_288.JPG',\n",
       "       'vol/deform/dk15/attribute_db/emotionet_5/first_50000/emotionet_4_seventh_50000_322e2885a172a3638db54358dace09ac.jpg'],\n",
       "      dtype=object)"
      ]
     },
     "execution_count": 14,
     "metadata": {
      "tags": []
     },
     "output_type": "execute_result"
    }
   ],
   "source": [
    "df['Image_Name'].values[:10]"
   ]
  },
  {
   "cell_type": "code",
   "execution_count": 15,
   "metadata": {
    "colab": {
     "base_uri": "https://localhost:8080/",
     "height": 206
    },
    "id": "TJV-kQ02CYkE",
    "outputId": "a156f1bc-f886-41d4-ffe3-c77a9a5a6efa"
   },
   "outputs": [
    {
     "data": {
      "text/html": [
       "<div>\n",
       "<style scoped>\n",
       "    .dataframe tbody tr th:only-of-type {\n",
       "        vertical-align: middle;\n",
       "    }\n",
       "\n",
       "    .dataframe tbody tr th {\n",
       "        vertical-align: top;\n",
       "    }\n",
       "\n",
       "    .dataframe thead th {\n",
       "        text-align: right;\n",
       "    }\n",
       "</style>\n",
       "<table border=\"1\" class=\"dataframe\">\n",
       "  <thead>\n",
       "    <tr style=\"text-align: right;\">\n",
       "      <th></th>\n",
       "      <th>No</th>\n",
       "      <th>Image_Name</th>\n",
       "      <th>Wrinkles</th>\n",
       "      <th>Freakles</th>\n",
       "      <th>Glasses</th>\n",
       "      <th>Hair_color</th>\n",
       "      <th>Hair_Top</th>\n",
       "      <th>No face</th>\n",
       "      <th>Hair visibility</th>\n",
       "    </tr>\n",
       "  </thead>\n",
       "  <tbody>\n",
       "    <tr>\n",
       "      <th>0</th>\n",
       "      <td>1</td>\n",
       "      <td>vol/deform/dk15/attribute_db/emotionet_5/first...</td>\n",
       "      <td>0</td>\n",
       "      <td>0</td>\n",
       "      <td>0</td>\n",
       "      <td>6</td>\n",
       "      <td>3</td>\n",
       "      <td>0</td>\n",
       "      <td>1</td>\n",
       "    </tr>\n",
       "    <tr>\n",
       "      <th>1</th>\n",
       "      <td>2</td>\n",
       "      <td>vol/deform/dk15/attribute_db/emotionet_5/first...</td>\n",
       "      <td>0</td>\n",
       "      <td>0</td>\n",
       "      <td>0</td>\n",
       "      <td>1</td>\n",
       "      <td>3</td>\n",
       "      <td>0</td>\n",
       "      <td>1</td>\n",
       "    </tr>\n",
       "    <tr>\n",
       "      <th>2</th>\n",
       "      <td>3</td>\n",
       "      <td>vol/deform/dk15/attribute_db/emotionet_5/first...</td>\n",
       "      <td>0</td>\n",
       "      <td>0</td>\n",
       "      <td>0</td>\n",
       "      <td>0</td>\n",
       "      <td>3</td>\n",
       "      <td>0</td>\n",
       "      <td>1</td>\n",
       "    </tr>\n",
       "    <tr>\n",
       "      <th>3</th>\n",
       "      <td>4</td>\n",
       "      <td>vol/deform/dk15/attribute_db/emotionet_5/first...</td>\n",
       "      <td>0</td>\n",
       "      <td>0</td>\n",
       "      <td>0</td>\n",
       "      <td>1</td>\n",
       "      <td>3</td>\n",
       "      <td>0</td>\n",
       "      <td>1</td>\n",
       "    </tr>\n",
       "    <tr>\n",
       "      <th>4</th>\n",
       "      <td>5</td>\n",
       "      <td>vol/deform/dk15/attribute_db/emotionet_5/first...</td>\n",
       "      <td>0</td>\n",
       "      <td>0</td>\n",
       "      <td>0</td>\n",
       "      <td>3</td>\n",
       "      <td>3</td>\n",
       "      <td>0</td>\n",
       "      <td>1</td>\n",
       "    </tr>\n",
       "  </tbody>\n",
       "</table>\n",
       "</div>"
      ],
      "text/plain": [
       "   No  ... Hair visibility\n",
       "0   1  ...               1\n",
       "1   2  ...               1\n",
       "2   3  ...               1\n",
       "3   4  ...               1\n",
       "4   5  ...               1\n",
       "\n",
       "[5 rows x 9 columns]"
      ]
     },
     "execution_count": 15,
     "metadata": {
      "tags": []
     },
     "output_type": "execute_result"
    }
   ],
   "source": [
    "df.head()"
   ]
  },
  {
   "cell_type": "code",
   "execution_count": 16,
   "metadata": {
    "colab": {
     "base_uri": "https://localhost:8080/",
     "height": 129
    },
    "id": "iHeItILE8VBC",
    "outputId": "43765b93-5937-401b-eec6-b58e4493582e"
   },
   "outputs": [
    {
     "name": "stdout",
     "output_type": "stream",
     "text": [
      "Requirement already satisfied: patool in /usr/local/lib/python3.7/dist-packages (1.12)\n",
      "patool: Extracting /content/drive/MyDrive/vol.rar ...\n",
      "patool: running /usr/bin/unrar x -- /content/drive/MyDrive/vol.rar\n",
      "patool:     with cwd='./Unpack_wbbc15k6'\n",
      "patool: ... /content/drive/MyDrive/vol.rar extracted to `vol1' (local file exists).\n"
     ]
    },
    {
     "data": {
      "application/vnd.google.colaboratory.intrinsic+json": {
       "type": "string"
      },
      "text/plain": [
       "'vol1'"
      ]
     },
     "execution_count": 16,
     "metadata": {
      "tags": []
     },
     "output_type": "execute_result"
    }
   ],
   "source": [
    "!pip install patool\n",
    "import patoolib\n",
    "patoolib.extract_archive('/content/drive/MyDrive/vol.rar')"
   ]
  },
  {
   "cell_type": "code",
   "execution_count": 24,
   "metadata": {
    "id": "smg96Syts0N4"
   },
   "outputs": [],
   "source": []
  },
  {
   "cell_type": "code",
   "execution_count": 25,
   "metadata": {
    "id": "8J8xQUh78FfS"
   },
   "outputs": [],
   "source": [
    "import cv2\n",
    "import os\n",
    "height = []\n",
    "width = []\n",
    "for i in df['Image_Name']:\n",
    "      img = cv2.imread(i)\n",
    "      h, w, ch =img.shape\n",
    "      height.append(h)\n",
    "      width.append(w)"
   ]
  },
  {
   "cell_type": "code",
   "execution_count": 26,
   "metadata": {
    "colab": {
     "base_uri": "https://localhost:8080/"
    },
    "id": "7tdDYM5sGeWg",
    "outputId": "4c990aa2-4297-4a2b-f2a3-1120de3fc153"
   },
   "outputs": [
    {
     "name": "stdout",
     "output_type": "stream",
     "text": [
      "mean value of height is : 496.0\n",
      "mean value of width is :  472.0\n"
     ]
    }
   ],
   "source": [
    "import numpy as np\n",
    "print('mean value of height is :',np.median(height))\n",
    "print('mean value of width is : ',np.median(width))"
   ]
  },
  {
   "cell_type": "code",
   "execution_count": 27,
   "metadata": {
    "colab": {
     "base_uri": "https://localhost:8080/"
    },
    "id": "8ZfMNuc5_jwM",
    "outputId": "711fdeeb-bb36-4cd2-a772-1a7aebbca342"
   },
   "outputs": [
    {
     "name": "stdout",
     "output_type": "stream",
     "text": [
      "[ 344.  496.  720. 1067.]\n",
      "[ 306.  472.  640. 1002.]\n"
     ]
    }
   ],
   "source": [
    "print(np.quantile(height,[.25,.50,.75,.9]))\n",
    "print(np.quantile(width,[.25,.50,.75,.9]))"
   ]
  },
  {
   "cell_type": "code",
   "execution_count": 28,
   "metadata": {
    "colab": {
     "base_uri": "https://localhost:8080/"
    },
    "id": "LZvxS6qEj6fQ",
    "outputId": "f74c14b8-8287-4cda-e468-ba7ce6051493"
   },
   "outputs": [
    {
     "name": "stdout",
     "output_type": "stream",
     "text": [
      "1666\n"
     ]
    }
   ],
   "source": [
    "print(len(height))"
   ]
  },
  {
   "cell_type": "code",
   "execution_count": 29,
   "metadata": {
    "colab": {
     "base_uri": "https://localhost:8080/",
     "height": 282
    },
    "id": "2OMq2PYFgOj8",
    "outputId": "b16e005c-75e6-4e20-b024-5ca4211a365f"
   },
   "outputs": [
    {
     "data": {
      "image/png": "[encoded data removed]",
      "text/plain": [
       "<Figure size 432x288 with 1 Axes>"
      ]
     },
     "metadata": {
      "needs_background": "light",
      "tags": []
     },
     "output_type": "display_data"
    }
   ],
   "source": [
    "import matplotlib.pyplot as plt\n",
    "plt.bar(df['No face'].unique(),df['No face'].value_counts(),tick_label=['face','No_Face'])\n",
    "plt.grid()\n",
    "plt.title('face visibility')\n",
    "plt.show()"
   ]
  },
  {
   "cell_type": "code",
   "execution_count": 30,
   "metadata": {
    "colab": {
     "base_uri": "https://localhost:8080/"
    },
    "id": "QAVHf46DjIzy",
    "outputId": "64efd2b8-256b-4b61-c1b4-e3492c8b5be8"
   },
   "outputs": [
    {
     "data": {
      "text/plain": [
       "(1556, 9)"
      ]
     },
     "execution_count": 30,
     "metadata": {
      "tags": []
     },
     "output_type": "execute_result"
    }
   ],
   "source": [
    "#dropping rows where no face is visible\n",
    "df = df[df['No face'] == 0]\n",
    "df.shape"
   ]
  },
  {
   "cell_type": "code",
   "execution_count": 31,
   "metadata": {
    "colab": {
     "base_uri": "https://localhost:8080/"
    },
    "id": "VtQlNsMHmgV-",
    "outputId": "bc710af2-e255-47c1-bcc5-81f9e6db7cff"
   },
   "outputs": [
    {
     "data": {
      "text/plain": [
       "(1556, 8)"
      ]
     },
     "execution_count": 31,
     "metadata": {
      "tags": []
     },
     "output_type": "execute_result"
    }
   ],
   "source": [
    "# dropping the no face column too as it is of no use to us now.\n",
    "# dropping this column because we already have not visible option in the hair related columns : Hair_color \tHair_Top \n",
    "df.drop('No face',inplace=True,axis = 1)\n",
    "df.shape"
   ]
  },
  {
   "cell_type": "code",
   "execution_count": 32,
   "metadata": {
    "colab": {
     "base_uri": "https://localhost:8080/",
     "height": 282
    },
    "id": "Bcy5bqazhHIL",
    "outputId": "1da10892-a918-4499-ab96-6d0091984c70"
   },
   "outputs": [
    {
     "data": {
      "image/png": "[encoded data removed]",
      "text/plain": [
       "<Figure size 432x288 with 1 Axes>"
      ]
     },
     "metadata": {
      "needs_background": "light",
      "tags": []
     },
     "output_type": "display_data"
    }
   ],
   "source": [
    "df['Hair visibility'].value_counts()\n",
    "import matplotlib.pyplot as plt\n",
    "plt.bar(df['Hair visibility'].unique(),df['Hair visibility'].value_counts(),tick_label=['visible','not_visible'])\n",
    "plt.title('hair visibility')\n",
    "plt.grid()\n",
    "plt.show()"
   ]
  },
  {
   "cell_type": "code",
   "execution_count": 33,
   "metadata": {
    "colab": {
     "base_uri": "https://localhost:8080/"
    },
    "id": "QPkDyjlYoszW",
    "outputId": "4c0030aa-b317-4ec8-b207-ee496caaf0e5"
   },
   "outputs": [
    {
     "data": {
      "text/plain": [
       "(1556, 7)"
      ]
     },
     "execution_count": 33,
     "metadata": {
      "tags": []
     },
     "output_type": "execute_result"
    }
   ],
   "source": [
    "# dropping this column because we already have not visible option in the hair related columns : Hair_color \tHair_Top \n",
    "df.drop('Hair visibility',inplace=True,axis = 1)\n",
    "df.shape"
   ]
  },
  {
   "cell_type": "code",
   "execution_count": 34,
   "metadata": {
    "colab": {
     "base_uri": "https://localhost:8080/",
     "height": 281
    },
    "id": "U0MNR7J9oNmn",
    "outputId": "d5980f48-3ffe-457c-87e9-64a1b57eb54a"
   },
   "outputs": [
    {
     "data": {
      "image/png": "[encoded data removed]",
      "text/plain": [
       "<Figure size 432x288 with 1 Axes>"
      ]
     },
     "metadata": {
      "needs_background": "light",
      "tags": []
     },
     "output_type": "display_data"
    }
   ],
   "source": [
    "import matplotlib.pyplot as plt\n",
    "plt.bar(df['Wrinkles'].unique().astype('str'),df['Wrinkles'].value_counts())\n",
    "plt.title('Wrinkles')\n",
    "plt.grid()\n",
    "plt.show()"
   ]
  },
  {
   "cell_type": "code",
   "execution_count": 96,
   "metadata": {
    "colab": {
     "base_uri": "https://localhost:8080/"
    },
    "id": "36c4qED63m3Z",
    "outputId": "ded0a4d2-fcae-442a-e760-8267ed4239b6"
   },
   "outputs": [
    {
     "name": "stdout",
     "output_type": "stream",
     "text": [
      "[0.58716981 3.36796537]\n"
     ]
    }
   ],
   "source": [
    "from sklearn.utils.class_weight import compute_class_weight\n",
    "class_weights_wrinkles = compute_class_weight('balanced', np.unique(df['Wrinkles']), df['Wrinkles'])\n",
    "print(class_weights_wrinkles)"
   ]
  },
  {
   "cell_type": "code",
   "execution_count": 35,
   "metadata": {
    "colab": {
     "base_uri": "https://localhost:8080/",
     "height": 281
    },
    "id": "yiEYO6RTo_8G",
    "outputId": "cf1e3167-3c04-43c1-c3cb-3e934120958c"
   },
   "outputs": [
    {
     "data": {
      "image/png": "[encoded data removed]",
      "text/plain": [
       "<Figure size 432x288 with 1 Axes>"
      ]
     },
     "metadata": {
      "needs_background": "light",
      "tags": []
     },
     "output_type": "display_data"
    }
   ],
   "source": [
    "import matplotlib.pyplot as plt\n",
    "plt.bar(df['Freakles'].unique().astype('str'),df['Freakles'].value_counts())\n",
    "plt.title('Freakles')\n",
    "plt.grid()\n",
    "plt.show()"
   ]
  },
  {
   "cell_type": "code",
   "execution_count": 97,
   "metadata": {
    "colab": {
     "base_uri": "https://localhost:8080/"
    },
    "id": "3nRFtSDV3x1j",
    "outputId": "264ab32a-38ba-4444-8831-63a37c6295b4"
   },
   "outputs": [
    {
     "name": "stdout",
     "output_type": "stream",
     "text": [
      "[0.56011519 4.65868263]\n"
     ]
    }
   ],
   "source": [
    "from sklearn.utils.class_weight import compute_class_weight\n",
    "class_weights_Freakles = compute_class_weight('balanced', np.unique(df['Freakles']), df['Freakles'])\n",
    "print(class_weights_Freakles)"
   ]
  },
  {
   "cell_type": "code",
   "execution_count": 36,
   "metadata": {
    "colab": {
     "base_uri": "https://localhost:8080/",
     "height": 281
    },
    "id": "fgbAhm_2o_3w",
    "outputId": "2ce9f4ee-2312-4020-cca7-97bf6925a9a0"
   },
   "outputs": [
    {
     "data": {
      "image/png": "[encoded data removed]",
      "text/plain": [
       "<Figure size 432x288 with 1 Axes>"
      ]
     },
     "metadata": {
      "needs_background": "light",
      "tags": []
     },
     "output_type": "display_data"
    }
   ],
   "source": [
    "import matplotlib.pyplot as plt\n",
    "plt.bar(df['Glasses'].unique().astype('str'),df['Glasses'].value_counts())\n",
    "plt.title('Glasses')\n",
    "plt.grid()\n",
    "plt.show()"
   ]
  },
  {
   "cell_type": "code",
   "execution_count": 99,
   "metadata": {
    "id": "_b0YZHga4G-y"
   },
   "outputs": [],
   "source": []
  },
  {
   "cell_type": "code",
   "execution_count": 100,
   "metadata": {
    "colab": {
     "base_uri": "https://localhost:8080/"
    },
    "id": "Dg9ssAZ237Ft",
    "outputId": "4615865c-e98b-4e55-ce2b-73bcf9c9290e"
   },
   "outputs": [
    {
     "name": "stdout",
     "output_type": "stream",
     "text": [
      "[ 0.37153773  3.55251142 37.04761905]\n"
     ]
    }
   ],
   "source": [
    "from sklearn.utils.class_weight import compute_class_weight\n",
    "class_weights_Glasses = compute_class_weight('balanced', np.unique(df['Glasses']), df['Glasses'])\n",
    "print(class_weights_Glasses)"
   ]
  },
  {
   "cell_type": "code",
   "execution_count": 37,
   "metadata": {
    "colab": {
     "base_uri": "https://localhost:8080/",
     "height": 281
    },
    "id": "kcqEidRCo_2k",
    "outputId": "111e8242-ec2a-43ae-c5d0-409f899b6d4d"
   },
   "outputs": [
    {
     "data": {
      "image/png": "[encoded data removed]",
      "text/plain": [
       "<Figure size 432x288 with 1 Axes>"
      ]
     },
     "metadata": {
      "needs_background": "light",
      "tags": []
     },
     "output_type": "display_data"
    }
   ],
   "source": [
    "import matplotlib.pyplot as plt\n",
    "plt.bar(df['Hair_color'].unique().astype('str'),df['Hair_color'].value_counts())\n",
    "plt.title('Hair_color')\n",
    "plt.grid()\n",
    "plt.show()"
   ]
  },
  {
   "cell_type": "code",
   "execution_count": 101,
   "metadata": {
    "colab": {
     "base_uri": "https://localhost:8080/"
    },
    "id": "FAk114Uwo_q2",
    "outputId": "76f8fc07-9b83-4d9d-a2fa-a991755f05eb"
   },
   "outputs": [
    {
     "name": "stdout",
     "output_type": "stream",
     "text": [
      "[0.46853357 0.46980676 1.78235968 1.06721536 1.27124183 1.87922705\n",
      " 1.25281804 3.52834467 1.19233716]\n"
     ]
    }
   ],
   "source": [
    "from sklearn.utils.class_weight import compute_class_weight\n",
    "class_weights_Hair_color = compute_class_weight('balanced', np.unique(df['Hair_color']), df['Hair_color'])\n",
    "print(class_weights_Hair_color)"
   ]
  },
  {
   "cell_type": "code",
   "execution_count": 38,
   "metadata": {
    "colab": {
     "base_uri": "https://localhost:8080/",
     "height": 281
    },
    "id": "ZkrRG6MPoZ7G",
    "outputId": "2a74ee38-a887-4492-db9d-3e9b1538b44f"
   },
   "outputs": [
    {
     "data": {
      "image/png": "[encoded data removed]",
      "text/plain": [
       "<Figure size 432x288 with 1 Axes>"
      ]
     },
     "metadata": {
      "needs_background": "light",
      "tags": []
     },
     "output_type": "display_data"
    }
   ],
   "source": [
    "import matplotlib.pyplot as plt\n",
    "plt.bar(df['Hair_Top'].unique(),df['Hair_Top'].value_counts())\n",
    "plt.title('Hair_Top')\n",
    "plt.grid()\n",
    "plt.show()"
   ]
  },
  {
   "cell_type": "code",
   "execution_count": 111,
   "metadata": {
    "colab": {
     "base_uri": "https://localhost:8080/"
    },
    "id": "MCI80yJP5_ff",
    "outputId": "4db21bff-2e7c-4337-d4f6-02274103ad48"
   },
   "outputs": [
    {
     "name": "stdout",
     "output_type": "stream",
     "text": [
      "[10.03870968 10.37333333  2.03398693  0.25056361  3.112     ]\n"
     ]
    }
   ],
   "source": [
    "from sklearn.utils.class_weight import compute_class_weight\n",
    "class_weights_Hair_Hair_Top = compute_class_weight('balanced', np.unique(df['Hair_Top']), df['Hair_Top'])\n",
    "print(class_weights_Hair_Hair_Top)"
   ]
  },
  {
   "cell_type": "code",
   "execution_count": 39,
   "metadata": {
    "colab": {
     "base_uri": "https://localhost:8080/"
    },
    "id": "BzTFxICqhiOx",
    "outputId": "308eca59-647c-4a17-a341-9f4a5619ead3"
   },
   "outputs": [
    {
     "name": "stdout",
     "output_type": "stream",
     "text": [
      "No\n",
      "Image_Name\n",
      "Wrinkles\n",
      "[0 1]\n",
      "Freakles\n",
      "[0 1]\n",
      "Glasses\n",
      "[0 1 2]\n",
      "Hair_color\n",
      "[0 1 2 3 4 5 6 7 8]\n",
      "Hair_Top\n",
      "[0 1 2 3 4]\n"
     ]
    }
   ],
   "source": [
    "from sklearn import preprocessing\n",
    "new = {}\n",
    "for i in df.columns:\n",
    "  print(i)\n",
    "  if i != 'Image_Name' and i!='No':\n",
    "    lb = preprocessing.LabelBinarizer()\n",
    "    new[i] = lb.fit_transform(df[i])\n",
    "    print(lb.classes_)"
   ]
  },
  {
   "cell_type": "code",
   "execution_count": 40,
   "metadata": {
    "colab": {
     "base_uri": "https://localhost:8080/"
    },
    "id": "9OM0DsaYs3K9",
    "outputId": "099ca1ad-9d07-4f52-a6c2-8166a92d1735"
   },
   "outputs": [
    {
     "data": {
      "text/plain": [
       "dict_keys(['Wrinkles', 'Freakles', 'Glasses', 'Hair_color', 'Hair_Top'])"
      ]
     },
     "execution_count": 40,
     "metadata": {
      "tags": []
     },
     "output_type": "execute_result"
    }
   ],
   "source": [
    "new.keys()"
   ]
  },
  {
   "cell_type": "code",
   "execution_count": 40,
   "metadata": {
    "id": "w5qSZKjJyZVD"
   },
   "outputs": [],
   "source": []
  },
  {
   "cell_type": "code",
   "execution_count": 41,
   "metadata": {
    "colab": {
     "base_uri": "https://localhost:8080/"
    },
    "id": "Pw1y-9jmvA6u",
    "outputId": "28a94d11-10a0-4638-b723-bb59e7254353"
   },
   "outputs": [
    {
     "data": {
      "text/plain": [
       "(1556, 9)"
      ]
     },
     "execution_count": 41,
     "metadata": {
      "tags": []
     },
     "output_type": "execute_result"
    }
   ],
   "source": [
    "new_df = pd.DataFrame(new['Hair_color'],columns = ['brown','black','gray', 'blond','red','white','mixed', 'other','not_visible'])\n",
    "new_df.shape"
   ]
  },
  {
   "cell_type": "code",
   "execution_count": 42,
   "metadata": {
    "colab": {
     "base_uri": "https://localhost:8080/"
    },
    "id": "As1HhbQI3MrX",
    "outputId": "e73d9c87-ec93-43d0-91f6-8d55933ba91f"
   },
   "outputs": [
    {
     "data": {
      "text/plain": [
       "(1556, 3)"
      ]
     },
     "execution_count": 42,
     "metadata": {
      "tags": []
     },
     "output_type": "execute_result"
    }
   ],
   "source": [
    "glass_df = pd.DataFrame(new['Glasses'],columns = ['do_not_wear','wear_normal','wear_sunglasses'])\n",
    "\n",
    "glass_df.shape"
   ]
  },
  {
   "cell_type": "code",
   "execution_count": 43,
   "metadata": {
    "colab": {
     "base_uri": "https://localhost:8080/"
    },
    "id": "D0JcWgRn48LI",
    "outputId": "aa8dd2ce-d387-4bbe-bb18-961bb8f56431"
   },
   "outputs": [
    {
     "data": {
      "text/plain": [
       "(1556, 5)"
      ]
     },
     "execution_count": 43,
     "metadata": {
      "tags": []
     },
     "output_type": "execute_result"
    }
   ],
   "source": [
    "hair_top_df = pd.DataFrame(new['Hair_Top'],columns = ['bald','shaved','has_few_hair','has_thick_hair','other_top'])\n",
    "hair_top_df.shape"
   ]
  },
  {
   "cell_type": "code",
   "execution_count": 44,
   "metadata": {
    "colab": {
     "base_uri": "https://localhost:8080/",
     "height": 487
    },
    "id": "9MduSO4Qmp-b",
    "outputId": "5ee31aa5-5e2f-4b15-c954-8537e3812ef6"
   },
   "outputs": [
    {
     "data": {
      "text/html": [
       "<div>\n",
       "<style scoped>\n",
       "    .dataframe tbody tr th:only-of-type {\n",
       "        vertical-align: middle;\n",
       "    }\n",
       "\n",
       "    .dataframe tbody tr th {\n",
       "        vertical-align: top;\n",
       "    }\n",
       "\n",
       "    .dataframe thead th {\n",
       "        text-align: right;\n",
       "    }\n",
       "</style>\n",
       "<table border=\"1\" class=\"dataframe\">\n",
       "  <thead>\n",
       "    <tr style=\"text-align: right;\">\n",
       "      <th></th>\n",
       "      <th>Image_Name</th>\n",
       "      <th>brown</th>\n",
       "      <th>black</th>\n",
       "      <th>gray</th>\n",
       "      <th>blond</th>\n",
       "      <th>red</th>\n",
       "      <th>white</th>\n",
       "      <th>mixed</th>\n",
       "      <th>other</th>\n",
       "      <th>not_visible</th>\n",
       "      <th>wrinkles</th>\n",
       "      <th>Freakles</th>\n",
       "      <th>do_not_wear</th>\n",
       "      <th>wear_normal</th>\n",
       "      <th>wear_sunglasses</th>\n",
       "      <th>bald</th>\n",
       "      <th>shaved</th>\n",
       "      <th>has_few_hair</th>\n",
       "      <th>has_thick_hair</th>\n",
       "      <th>other_top</th>\n",
       "    </tr>\n",
       "  </thead>\n",
       "  <tbody>\n",
       "    <tr>\n",
       "      <th>0</th>\n",
       "      <td>vol/deform/dk15/attribute_db/emotionet_5/first...</td>\n",
       "      <td>0</td>\n",
       "      <td>0</td>\n",
       "      <td>0</td>\n",
       "      <td>0</td>\n",
       "      <td>0</td>\n",
       "      <td>0</td>\n",
       "      <td>1</td>\n",
       "      <td>0</td>\n",
       "      <td>0</td>\n",
       "      <td>0</td>\n",
       "      <td>0</td>\n",
       "      <td>1</td>\n",
       "      <td>0</td>\n",
       "      <td>0</td>\n",
       "      <td>0</td>\n",
       "      <td>0</td>\n",
       "      <td>0</td>\n",
       "      <td>1</td>\n",
       "      <td>0</td>\n",
       "    </tr>\n",
       "    <tr>\n",
       "      <th>1</th>\n",
       "      <td>vol/deform/dk15/attribute_db/emotionet_5/first...</td>\n",
       "      <td>0</td>\n",
       "      <td>1</td>\n",
       "      <td>0</td>\n",
       "      <td>0</td>\n",
       "      <td>0</td>\n",
       "      <td>0</td>\n",
       "      <td>0</td>\n",
       "      <td>0</td>\n",
       "      <td>0</td>\n",
       "      <td>0</td>\n",
       "      <td>0</td>\n",
       "      <td>1</td>\n",
       "      <td>0</td>\n",
       "      <td>0</td>\n",
       "      <td>0</td>\n",
       "      <td>0</td>\n",
       "      <td>0</td>\n",
       "      <td>1</td>\n",
       "      <td>0</td>\n",
       "    </tr>\n",
       "    <tr>\n",
       "      <th>2</th>\n",
       "      <td>vol/deform/dk15/attribute_db/emotionet_5/first...</td>\n",
       "      <td>1</td>\n",
       "      <td>0</td>\n",
       "      <td>0</td>\n",
       "      <td>0</td>\n",
       "      <td>0</td>\n",
       "      <td>0</td>\n",
       "      <td>0</td>\n",
       "      <td>0</td>\n",
       "      <td>0</td>\n",
       "      <td>0</td>\n",
       "      <td>0</td>\n",
       "      <td>1</td>\n",
       "      <td>0</td>\n",
       "      <td>0</td>\n",
       "      <td>0</td>\n",
       "      <td>0</td>\n",
       "      <td>0</td>\n",
       "      <td>1</td>\n",
       "      <td>0</td>\n",
       "    </tr>\n",
       "    <tr>\n",
       "      <th>3</th>\n",
       "      <td>vol/deform/dk15/attribute_db/emotionet_5/first...</td>\n",
       "      <td>0</td>\n",
       "      <td>1</td>\n",
       "      <td>0</td>\n",
       "      <td>0</td>\n",
       "      <td>0</td>\n",
       "      <td>0</td>\n",
       "      <td>0</td>\n",
       "      <td>0</td>\n",
       "      <td>0</td>\n",
       "      <td>0</td>\n",
       "      <td>0</td>\n",
       "      <td>1</td>\n",
       "      <td>0</td>\n",
       "      <td>0</td>\n",
       "      <td>0</td>\n",
       "      <td>0</td>\n",
       "      <td>0</td>\n",
       "      <td>1</td>\n",
       "      <td>0</td>\n",
       "    </tr>\n",
       "    <tr>\n",
       "      <th>4</th>\n",
       "      <td>vol/deform/dk15/attribute_db/emotionet_5/first...</td>\n",
       "      <td>0</td>\n",
       "      <td>0</td>\n",
       "      <td>0</td>\n",
       "      <td>1</td>\n",
       "      <td>0</td>\n",
       "      <td>0</td>\n",
       "      <td>0</td>\n",
       "      <td>0</td>\n",
       "      <td>0</td>\n",
       "      <td>0</td>\n",
       "      <td>0</td>\n",
       "      <td>1</td>\n",
       "      <td>0</td>\n",
       "      <td>0</td>\n",
       "      <td>0</td>\n",
       "      <td>0</td>\n",
       "      <td>0</td>\n",
       "      <td>1</td>\n",
       "      <td>0</td>\n",
       "    </tr>\n",
       "  </tbody>\n",
       "</table>\n",
       "</div>"
      ],
      "text/plain": [
       "                                          Image_Name  ...  other_top\n",
       "0  vol/deform/dk15/attribute_db/emotionet_5/first...  ...          0\n",
       "1  vol/deform/dk15/attribute_db/emotionet_5/first...  ...          0\n",
       "2  vol/deform/dk15/attribute_db/emotionet_5/first...  ...          0\n",
       "3  vol/deform/dk15/attribute_db/emotionet_5/first...  ...          0\n",
       "4  vol/deform/dk15/attribute_db/emotionet_5/first...  ...          0\n",
       "\n",
       "[5 rows x 20 columns]"
      ]
     },
     "execution_count": 44,
     "metadata": {
      "tags": []
     },
     "output_type": "execute_result"
    }
   ],
   "source": [
    "new_df['Image_Name'] = df['Image_Name']\n",
    "\n",
    "new_df['wrinkles'] = pd.Series(new['Wrinkles'].flatten())\n",
    "new_df['Freakles'] = pd.Series(new['Freakles'].flatten())\n",
    "\n",
    "final_df = pd.concat([new_df,glass_df,hair_top_df],axis=1)\n",
    "(final_df.head())\n",
    "\n",
    "# shift column 'Name' to first position\n",
    "first_column = final_df.pop('Image_Name')\n",
    "  \n",
    "# insert column using insert(position,column_name,\n",
    "# first_column) function\n",
    "final_df.insert(0, 'Image_Name', first_column)\n",
    "(final_df.head())\n"
   ]
  },
  {
   "cell_type": "code",
   "execution_count": 45,
   "metadata": {
    "colab": {
     "base_uri": "https://localhost:8080/"
    },
    "id": "dyaI3C8d0pF8",
    "outputId": "b6c6f145-d07b-4e67-a69a-7f6ddc82cdb3"
   },
   "outputs": [
    {
     "data": {
      "text/plain": [
       "(1556, 20)"
      ]
     },
     "execution_count": 45,
     "metadata": {
      "tags": []
     },
     "output_type": "execute_result"
    }
   ],
   "source": [
    "final_df.shape"
   ]
  },
  {
   "cell_type": "code",
   "execution_count": 45,
   "metadata": {
    "id": "4vvRADK0PFNh"
   },
   "outputs": [],
   "source": []
  },
  {
   "cell_type": "code",
   "execution_count": 46,
   "metadata": {
    "colab": {
     "base_uri": "https://localhost:8080/"
    },
    "id": "4W26jI3oHqAL",
    "outputId": "7a207195-1d59-4865-d8a1-8dda749230dc"
   },
   "outputs": [
    {
     "data": {
      "text/plain": [
       "Index(['Image_Name', 'brown', 'black', 'gray', 'blond', 'red', 'white',\n",
       "       'mixed', 'other', 'not_visible', 'wrinkles', 'Freakles', 'do_not_wear',\n",
       "       'wear_normal', 'wear_sunglasses', 'bald', 'shaved', 'has_few_hair',\n",
       "       'has_thick_hair', 'other_top'],\n",
       "      dtype='object')"
      ]
     },
     "execution_count": 46,
     "metadata": {
      "tags": []
     },
     "output_type": "execute_result"
    }
   ],
   "source": [
    "final_df.columns"
   ]
  },
  {
   "cell_type": "code",
   "execution_count": 47,
   "metadata": {
    "colab": {
     "base_uri": "https://localhost:8080/"
    },
    "id": "nuvjW7BxLsPx",
    "outputId": "a46a27a9-9a0c-497c-ff2d-64658987e9d3"
   },
   "outputs": [
    {
     "name": "stdout",
     "output_type": "stream",
     "text": [
      "<class 'pandas.core.frame.DataFrame'>\n",
      "RangeIndex: 1556 entries, 0 to 1555\n",
      "Data columns (total 20 columns):\n",
      " #   Column           Non-Null Count  Dtype \n",
      "---  ------           --------------  ----- \n",
      " 0   Image_Name       1452 non-null   object\n",
      " 1   brown            1556 non-null   int64 \n",
      " 2   black            1556 non-null   int64 \n",
      " 3   gray             1556 non-null   int64 \n",
      " 4   blond            1556 non-null   int64 \n",
      " 5   red              1556 non-null   int64 \n",
      " 6   white            1556 non-null   int64 \n",
      " 7   mixed            1556 non-null   int64 \n",
      " 8   other            1556 non-null   int64 \n",
      " 9   not_visible      1556 non-null   int64 \n",
      " 10  wrinkles         1556 non-null   int64 \n",
      " 11  Freakles         1556 non-null   int64 \n",
      " 12  do_not_wear      1556 non-null   int64 \n",
      " 13  wear_normal      1556 non-null   int64 \n",
      " 14  wear_sunglasses  1556 non-null   int64 \n",
      " 15  bald             1556 non-null   int64 \n",
      " 16  shaved           1556 non-null   int64 \n",
      " 17  has_few_hair     1556 non-null   int64 \n",
      " 18  has_thick_hair   1556 non-null   int64 \n",
      " 19  other_top        1556 non-null   int64 \n",
      "dtypes: int64(19), object(1)\n",
      "memory usage: 243.2+ KB\n"
     ]
    }
   ],
   "source": [
    "final_df.info()"
   ]
  },
  {
   "cell_type": "code",
   "execution_count": 113,
   "metadata": {
    "colab": {
     "base_uri": "https://localhost:8080/"
    },
    "id": "bc_QwzWv40G3",
    "outputId": "ab88b65a-82a9-498c-85b5-36f840efc2a9"
   },
   "outputs": [
    {
     "name": "stdout",
     "output_type": "stream",
     "text": [
      "(21,)\n"
     ]
    }
   ],
   "source": [
    "class_weight_all = np.concatenate([class_weights_Hair_color,class_weights_wrinkles,class_weights_Freakles,class_weights_Glasses,class_weights_Hair_Hair_Top])\n",
    "print(class_weight_all.shape)"
   ]
  },
  {
   "cell_type": "code",
   "execution_count": 128,
   "metadata": {
    "colab": {
     "base_uri": "https://localhost:8080/"
    },
    "id": "FxUppYDH6iOh",
    "outputId": "4bc21c3b-1b65-4e45-9d9b-a2eaa014f45e"
   },
   "outputs": [
    {
     "name": "stdout",
     "output_type": "stream",
     "text": [
      "{0: 0.46853357422463116, 1: 0.46980676328502413, 2: 1.7823596792668959, 3: 1.06721536351166, 4: 1.2712418300653594, 5: 1.8792270531400965, 6: 1.252818035426731, 7: 3.5283446712018143, 8: 1.1923371647509577, 9: 0.5871698113207547, 10: 3.367965367965368, 11: 0.5601151907847373, 12: 4.658682634730539, 13: 0.37153772683858644, 14: 3.5525114155251143, 15: 37.04761904761905, 16: 10.038709677419355, 17: 10.373333333333333, 18: 2.033986928104575, 19: 0.2505636070853462, 20: 3.112}\n"
     ]
    }
   ],
   "source": [
    "dc = dict(zip(np.arange(len(class_weight_all)),class_weight_all))\n",
    "print(dc)"
   ]
  },
  {
   "cell_type": "code",
   "execution_count": 114,
   "metadata": {
    "id": "YwMRcR9nMRuh"
   },
   "outputs": [],
   "source": [
    "final_df['Image_Name']  = final_df['Image_Name'].astype('str')"
   ]
  },
  {
   "cell_type": "code",
   "execution_count": 115,
   "metadata": {
    "id": "thWhfTrUXYfJ"
   },
   "outputs": [],
   "source": [
    "final_df.to_csv('/content/drive/MyDrive/model/preprocessed.csv')"
   ]
  },
  {
   "cell_type": "code",
   "execution_count": 124,
   "metadata": {
    "id": "D-WIoD0Gz57N"
   },
   "outputs": [],
   "source": []
  },
  {
   "cell_type": "code",
   "execution_count": 83,
   "metadata": {
    "colab": {
     "base_uri": "https://localhost:8080/"
    },
    "id": "1o1sIabmz5zp",
    "outputId": "d1969e27-1f0a-40d8-913e-b20ef067811e"
   },
   "outputs": [
    {
     "data": {
      "text/plain": [
       "array([0.58716981, 3.36796537])"
      ]
     },
     "execution_count": 83,
     "metadata": {
      "tags": []
     },
     "output_type": "execute_result"
    }
   ],
   "source": []
  },
  {
   "cell_type": "code",
   "execution_count": 189,
   "metadata": {
    "colab": {
     "base_uri": "https://localhost:8080/"
    },
    "id": "HODRNzHZ6dax",
    "outputId": "2bcbef12-d537-4f18-ca11-4acf56add1d7"
   },
   "outputs": [
    {
     "name": "stdout",
     "output_type": "stream",
     "text": [
      "Found 1305 validated image filenames.\n",
      "Found 144 validated image filenames.\n"
     ]
    },
    {
     "name": "stderr",
     "output_type": "stream",
     "text": [
      "/usr/local/lib/python3.7/dist-packages/keras_preprocessing/image/dataframe_iterator.py:282: UserWarning: Found 107 invalid image filename(s) in x_col=\"Image_Name\". These filename(s) will be ignored.\n",
      "  .format(n_invalid, x_col)\n"
     ]
    }
   ],
   "source": [
    "from tensorflow.keras.preprocessing.image import ImageDataGenerator\n",
    "\n",
    "train_dataGen = ImageDataGenerator(rescale = 1./255,\n",
    "                                  validation_split=0.10)\n",
    "\n",
    "train_datagen = train_dataGen.flow_from_dataframe(\n",
    "                                        dataframe = final_df,\n",
    "                                        directory=\"/content/\",x_col=\"Image_Name\",\n",
    "                                        y_col=['brown', 'black', 'gray', 'blond', 'red', 'white',\n",
    "       'mixed', 'other', 'not_visible', 'wrinkles', 'Freakles', 'do_not_wear',\n",
    "       'wear_normal', 'wear_sunglasses', 'bald', 'shaved', 'has_few_hair',\n",
    "       'has_thick_hair', 'other_top'],class_mode=\"raw\",\n",
    "                                        target_size=(512,512),\n",
    "                                        batch_size=64,validate_filenames=True,subset = 'training')#,class_weights=class_weight_all)\n",
    "\n",
    "valid_datagen = train_dataGen.flow_from_dataframe(\n",
    "                                        dataframe = final_df,\n",
    "                                        directory=\"/content/\",x_col=\"Image_Name\",\n",
    "                                        y_col=['brown', 'black', 'gray', 'blond', 'red', 'white','mixed', 'other', 'not_visible', 'wrinkles', 'Freakles', 'do_not_wear',\n",
    "       'wear_normal', 'wear_sunglasses', 'bald', 'shaved', 'has_few_hair','has_thick_hair', 'other_top'],class_mode=\"raw\",\n",
    "                                        target_size=(512,512),\n",
    "                                        batch_size=64,validate_filenames=True,subset = 'validation')#,class_weights=class_weight_all)\n"
   ]
  },
  {
   "cell_type": "code",
   "execution_count": 193,
   "metadata": {
    "colab": {
     "base_uri": "https://localhost:8080/"
    },
    "id": "2XYBwiyrCYn8",
    "outputId": "7220e7c9-c4b0-47ce-be25-24a5cb51b4f0"
   },
   "outputs": [
    {
     "name": "stdout",
     "output_type": "stream",
     "text": [
      "Model: \"model_12\"\n",
      "_________________________________________________________________\n",
      "Layer (type)                 Output Shape              Param #   \n",
      "=================================================================\n",
      "input_14 (InputLayer)        [(None, 512, 512, 3)]     0         \n",
      "_________________________________________________________________\n",
      "conv2d_41 (Conv2D)           (None, 510, 510, 16)      448       \n",
      "_________________________________________________________________\n",
      "max_pooling2d_31 (MaxPooling (None, 170, 170, 16)      0         \n",
      "_________________________________________________________________\n",
      "conv2d_42 (Conv2D)           (None, 168, 168, 32)      4640      \n",
      "_________________________________________________________________\n",
      "max_pooling2d_32 (MaxPooling (None, 56, 56, 32)        0         \n",
      "_________________________________________________________________\n",
      "conv2d_43 (Conv2D)           (None, 54, 54, 64)        18496     \n",
      "_________________________________________________________________\n",
      "flatten_13 (Flatten)         (None, 186624)            0         \n",
      "_________________________________________________________________\n",
      "dropout_47 (Dropout)         (None, 186624)            0         \n",
      "_________________________________________________________________\n",
      "dense_41 (Dense)             (None, 128)               23888000  \n",
      "_________________________________________________________________\n",
      "dropout_48 (Dropout)         (None, 128)               0         \n",
      "_________________________________________________________________\n",
      "batch_normalization_13 (Batc (None, 128)               512       \n",
      "_________________________________________________________________\n",
      "dense_42 (Dense)             (None, 32)                4128      \n",
      "_________________________________________________________________\n",
      "dense_43 (Dense)             (None, 19)                627       \n",
      "=================================================================\n",
      "Total params: 23,916,851\n",
      "Trainable params: 23,916,595\n",
      "Non-trainable params: 256\n",
      "_________________________________________________________________\n"
     ]
    }
   ],
   "source": [
    "import tensorflow as tf\n",
    "from tensorflow.keras.models import Model\n",
    "from tensorflow.keras.layers import Input,Dense,Conv2D,BatchNormalization,Dropout,Flatten,MaxPooling2D\n",
    "input_layer = Input(shape = (512,512,3))\n",
    "x = Conv2D(filters = 16,kernel_size=3,activation='relu')(input_layer)\n",
    "x = MaxPooling2D(pool_size=(3, 3))(x)\n",
    "\n",
    "x = Conv2D(filters = 32,kernel_size=3,activation='relu')(x)\n",
    "\n",
    "x = MaxPooling2D(pool_size=(3, 3))(x)\n",
    "x = Conv2D(filters = 64,kernel_size=3,activation='relu')(x)\n",
    "x = Flatten()(x)\n",
    "x = Dropout(0.3)(x)\n",
    "\n",
    "x = Dense(128)(x)\n",
    "x = Dropout(0.3)(x)\n",
    "x = BatchNormalization()(x)\n",
    "x = Dense(32)(x)\n",
    "out = Dense(19, activation=\"softmax\")(x)\n",
    "scratch_model = Model(inputs = (input_layer),outputs = (out))\n",
    "scratch_model.summary()"
   ]
  },
  {
   "cell_type": "code",
   "execution_count": 194,
   "metadata": {
    "colab": {
     "base_uri": "https://localhost:8080/"
    },
    "id": "VLNCKIOEHzcZ",
    "outputId": "75000211-ebfa-4302-ae52-1083a5d874a9"
   },
   "outputs": [
    {
     "name": "stdout",
     "output_type": "stream",
     "text": [
      "Requirement already satisfied: tensorflow-addons in /usr/local/lib/python3.7/dist-packages (0.12.1)\n",
      "Requirement already satisfied: typeguard>=2.7 in /usr/local/lib/python3.7/dist-packages (from tensorflow-addons) (2.7.1)\n"
     ]
    }
   ],
   "source": [
    "#https://www.tensorflow.org/addons/api_docs/python/tfa/metrics/F1Score\n",
    "!pip install tensorflow-addons\n",
    "import tensorflow_addons as tfa\n",
    "scratch_model.compile(optimizer=tf.keras.optimizers.Adam(0.001),loss='binary_crossentropy',metrics=['Precision',tfa.metrics.F1Score(num_classes=19, threshold=0.5,average = 'micro')\n",
    "])"
   ]
  },
  {
   "cell_type": "code",
   "execution_count": 195,
   "metadata": {
    "colab": {
     "base_uri": "https://localhost:8080/"
    },
    "id": "aasXv_99IANw",
    "outputId": "f706a16a-9df0-40c1-fa00-36c1ccd63fde"
   },
   "outputs": [
    {
     "name": "stdout",
     "output_type": "stream",
     "text": [
      "Epoch 1/20\n"
     ]
    },
    {
     "name": "stderr",
     "output_type": "stream",
     "text": [
      "/usr/local/lib/python3.7/dist-packages/PIL/TiffImagePlugin.py:788: UserWarning: Corrupt EXIF data.  Expecting to read 4 bytes but only got 0. \n",
      "  warnings.warn(str(msg))\n"
     ]
    },
    {
     "name": "stdout",
     "output_type": "stream",
     "text": [
      " 6/21 [=======>......................] - ETA: 10s - loss: 0.9289 - precision: 0.2225 - f1_score: 0.0155"
     ]
    },
    {
     "name": "stderr",
     "output_type": "stream",
     "text": [
      "/usr/local/lib/python3.7/dist-packages/PIL/Image.py:960: UserWarning: Palette images with Transparency expressed in bytes should be converted to RGBA images\n",
      "  \"Palette images with Transparency expressed in bytes should be \"\n"
     ]
    },
    {
     "name": "stdout",
     "output_type": "stream",
     "text": [
      "21/21 [==============================] - 21s 914ms/step - loss: 0.8888 - precision: 0.2478 - f1_score: 0.0124 - val_loss: 0.8493 - val_precision: 0.0857 - val_f1_score: 0.0219\n",
      "Epoch 2/20\n",
      "21/21 [==============================] - 18s 870ms/step - loss: 0.7530 - precision: 0.1780 - f1_score: 0.0018 - val_loss: 0.6353 - val_precision: 0.0000e+00 - val_f1_score: 0.0000e+00\n",
      "Epoch 3/20\n",
      "21/21 [==============================] - 18s 859ms/step - loss: 0.6332 - precision: 0.3830 - f1_score: 0.0035 - val_loss: 0.5681 - val_precision: 0.0000e+00 - val_f1_score: 0.0000e+00\n",
      "Epoch 4/20\n",
      "21/21 [==============================] - 18s 846ms/step - loss: 0.5309 - precision: 0.7648 - f1_score: 0.0051 - val_loss: 0.4277 - val_precision: 1.0000 - val_f1_score: 0.0042\n",
      "Epoch 5/20\n",
      "21/21 [==============================] - 18s 867ms/step - loss: 0.4111 - precision: 0.8116 - f1_score: 0.0310 - val_loss: 0.3699 - val_precision: 0.8000 - val_f1_score: 0.0327\n",
      "Epoch 6/20\n",
      "21/21 [==============================] - 18s 852ms/step - loss: 0.3372 - precision: 0.8851 - f1_score: 0.0958 - val_loss: 0.3245 - val_precision: 0.8947 - val_f1_score: 0.1315\n",
      "Epoch 7/20\n",
      "21/21 [==============================] - 18s 856ms/step - loss: 0.3032 - precision: 0.9429 - f1_score: 0.3009 - val_loss: 0.3284 - val_precision: 0.8936 - val_f1_score: 0.4065\n",
      "Epoch 8/20\n",
      "21/21 [==============================] - 18s 847ms/step - loss: 0.3059 - precision: 0.9248 - f1_score: 0.3485 - val_loss: 0.3433 - val_precision: 0.9077 - val_f1_score: 0.3875\n",
      "Epoch 9/20\n",
      "21/21 [==============================] - 18s 872ms/step - loss: 0.2873 - precision: 0.9414 - f1_score: 0.3780 - val_loss: 0.3396 - val_precision: 0.8951 - val_f1_score: 0.4116\n",
      "Epoch 10/20\n",
      "21/21 [==============================] - 18s 869ms/step - loss: 0.2783 - precision: 0.9611 - f1_score: 0.3787 - val_loss: 0.3491 - val_precision: 0.8986 - val_f1_score: 0.4019\n",
      "Epoch 11/20\n",
      "21/21 [==============================] - 18s 857ms/step - loss: 0.2787 - precision: 0.9261 - f1_score: 0.3732 - val_loss: 0.3363 - val_precision: 0.8929 - val_f1_score: 0.4039\n",
      "Epoch 12/20\n",
      "21/21 [==============================] - 18s 873ms/step - loss: 0.2651 - precision: 0.9393 - f1_score: 0.3659 - val_loss: 0.3412 - val_precision: 0.8881 - val_f1_score: 0.3883\n",
      "Epoch 13/20\n",
      "21/21 [==============================] - 18s 844ms/step - loss: 0.2432 - precision: 0.9795 - f1_score: 0.3686 - val_loss: 0.3498 - val_precision: 0.9021 - val_f1_score: 0.4148\n",
      "Epoch 14/20\n",
      "21/21 [==============================] - 18s 873ms/step - loss: 0.2396 - precision: 0.9814 - f1_score: 0.3793 - val_loss: 0.3615 - val_precision: 0.8944 - val_f1_score: 0.4090\n",
      "Epoch 15/20\n",
      "21/21 [==============================] - 18s 838ms/step - loss: 0.2073 - precision: 0.9894 - f1_score: 0.3913 - val_loss: 0.3637 - val_precision: 0.9085 - val_f1_score: 0.4155\n",
      "Epoch 16/20\n",
      "21/21 [==============================] - 18s 865ms/step - loss: 0.1892 - precision: 0.9913 - f1_score: 0.3916 - val_loss: 0.3575 - val_precision: 0.9007 - val_f1_score: 0.4097\n",
      "Epoch 17/20\n",
      "21/21 [==============================] - 18s 883ms/step - loss: 0.1675 - precision: 0.9953 - f1_score: 0.4023 - val_loss: 0.3700 - val_precision: 0.9014 - val_f1_score: 0.4122\n",
      "Epoch 18/20\n",
      "21/21 [==============================] - 18s 868ms/step - loss: 0.1459 - precision: 0.9949 - f1_score: 0.4091 - val_loss: 0.3864 - val_precision: 0.8958 - val_f1_score: 0.4141\n",
      "Epoch 19/20\n",
      "21/21 [==============================] - 18s 845ms/step - loss: 0.1293 - precision: 0.9966 - f1_score: 0.4197 - val_loss: 0.3799 - val_precision: 0.9014 - val_f1_score: 0.4122\n",
      "Epoch 20/20\n",
      "21/21 [==============================] - 18s 845ms/step - loss: 0.1046 - precision: 0.9998 - f1_score: 0.4249 - val_loss: 0.4127 - val_precision: 0.8958 - val_f1_score: 0.4141\n"
     ]
    }
   ],
   "source": [
    "history = scratch_model.fit(train_datagen,validation_data=valid_datagen,epochs = 20)#,class_weight=dc)"
   ]
  },
  {
   "cell_type": "code",
   "execution_count": 196,
   "metadata": {
    "colab": {
     "base_uri": "https://localhost:8080/",
     "height": 870
    },
    "id": "-gvyr9MVQOw9",
    "outputId": "4ce9d07c-cdf9-4023-ac28-b06493bba1a7"
   },
   "outputs": [
    {
     "name": "stdout",
     "output_type": "stream",
     "text": [
      "dict_keys(['loss', 'precision', 'f1_score', 'val_loss', 'val_precision', 'val_f1_score'])\n"
     ]
    },
    {
     "data": {
      "image/png": "[encoded data removed]",
      "text/plain": [
       "<Figure size 432x288 with 1 Axes>"
      ]
     },
     "metadata": {
      "needs_background": "light",
      "tags": []
     },
     "output_type": "display_data"
    },
    {
     "data": {
      "image/png": "[encoded data removed]",
      "text/plain": [
       "<Figure size 432x288 with 1 Axes>"
      ]
     },
     "metadata": {
      "needs_background": "light",
      "tags": []
     },
     "output_type": "display_data"
    },
    {
     "data": {
      "image/png": "[encoded data removed]",
      "text/plain": [
       "<Figure size 432x288 with 1 Axes>"
      ]
     },
     "metadata": {
      "needs_background": "light",
      "tags": []
     },
     "output_type": "display_data"
    }
   ],
   "source": [
    "print(history.history.keys())\n",
    "#  \"precision\"\n",
    "plt.grid()\n",
    "plt.plot(history.history['f1_score'])\n",
    "plt.plot(history.history['val_f1_score'])\n",
    "plt.title('model f1_score')\n",
    "plt.ylabel('f1_score')\n",
    "plt.xlabel('epoch')\n",
    "plt.legend(['train', 'validation'], loc='upper left')\n",
    "plt.show()\n",
    "\n",
    "#  \"precision\"\n",
    "plt.grid()\n",
    "plt.plot(history.history['precision'])\n",
    "plt.plot(history.history['val_precision'])\n",
    "plt.title('model precision')\n",
    "plt.ylabel('precision')\n",
    "plt.xlabel('epoch')\n",
    "plt.legend(['train', 'validation'], loc='upper left')\n",
    "plt.show()\n",
    "\n",
    "\n",
    "# \"Loss\"\n",
    "plt.grid()\n",
    "plt.plot(history.history['loss'])\n",
    "plt.plot(history.history['val_loss'])\n",
    "plt.title('model loss')\n",
    "plt.ylabel('loss')\n",
    "plt.xlabel('epoch')\n",
    "plt.legend(['train', 'validation'], loc='upper left')\n",
    "plt.show()"
   ]
  },
  {
   "cell_type": "code",
   "execution_count": 197,
   "metadata": {
    "colab": {
     "base_uri": "https://localhost:8080/"
    },
    "id": "g2d0wf4qIE7X",
    "outputId": "2b3cb1d2-0765-4dd6-b6a8-8767b4467c5b"
   },
   "outputs": [
    {
     "name": "stdout",
     "output_type": "stream",
     "text": [
      "INFO:tensorflow:Assets written to: /content/drive/MyDrive/model/mymodel/assets\n"
     ]
    }
   ],
   "source": [
    "scratch_model.save('/content/drive/MyDrive/model/mymodel')"
   ]
  },
  {
   "cell_type": "code",
   "execution_count": 198,
   "metadata": {
    "id": "g7Hil15KwidO"
   },
   "outputs": [],
   "source": [
    "model  = tf.keras.models.load_model('/content/drive/MyDrive/model/mymodel')"
   ]
  },
  {
   "cell_type": "code",
   "execution_count": 199,
   "metadata": {
    "colab": {
     "base_uri": "https://localhost:8080/"
    },
    "id": "4_wY6Vo-XUyk",
    "outputId": "24f42616-b40b-46ec-86ce-c09564b608f4"
   },
   "outputs": [
    {
     "name": "stdout",
     "output_type": "stream",
     "text": [
      "Found 1449 validated image filenames.\n"
     ]
    },
    {
     "name": "stderr",
     "output_type": "stream",
     "text": [
      "/usr/local/lib/python3.7/dist-packages/keras_preprocessing/image/dataframe_iterator.py:282: UserWarning: Found 107 invalid image filename(s) in x_col=\"Image_Name\". These filename(s) will be ignored.\n",
      "  .format(n_invalid, x_col)\n"
     ]
    }
   ],
   "source": [
    "test_dataGen = ImageDataGenerator(rescale = 1./255,\n",
    "                                  shear_range = 0.2,\n",
    "                                  zoom_range = 0.2,\n",
    "                                  horizontal_flip = True)\n",
    "test_gen = test_dataGen.flow_from_dataframe(final_df,x_col = 'Image_Name',y_col=['brown', 'black', 'gray', 'blond', 'red', 'white',\n",
    "       'mixed', 'other', 'not_visible', 'wrinkles', 'Freakles', 'do_not_wear',\n",
    "       'wear_normal', 'wear_sunglasses', 'bald', 'shaved', 'has_few_hair',\n",
    "       'has_thick_hair', 'other_top'],class_mode=\"raw\",Batch_size = 16,target_size=(512,512))"
   ]
  },
  {
   "cell_type": "code",
   "execution_count": 200,
   "metadata": {
    "colab": {
     "base_uri": "https://localhost:8080/"
    },
    "id": "SpYpefBjv1pR",
    "outputId": "8f57cc7b-d039-4ef8-b309-96356461a12b"
   },
   "outputs": [
    {
     "name": "stderr",
     "output_type": "stream",
     "text": [
      "/usr/local/lib/python3.7/dist-packages/tensorflow/python/keras/engine/training.py:1905: UserWarning: `Model.predict_generator` is deprecated and will be removed in a future version. Please use `Model.predict`, which supports generators.\n",
      "  warnings.warn('`Model.predict_generator` is deprecated and '\n",
      "/usr/local/lib/python3.7/dist-packages/PIL/Image.py:960: UserWarning: Palette images with Transparency expressed in bytes should be converted to RGBA images\n",
      "  \"Palette images with Transparency expressed in bytes should be \"\n",
      "/usr/local/lib/python3.7/dist-packages/PIL/TiffImagePlugin.py:788: UserWarning: Corrupt EXIF data.  Expecting to read 4 bytes but only got 0. \n",
      "  warnings.warn(str(msg))\n"
     ]
    }
   ],
   "source": [
    "pred = model.predict_generator(test_gen)"
   ]
  },
  {
   "cell_type": "code",
   "execution_count": 201,
   "metadata": {
    "colab": {
     "base_uri": "https://localhost:8080/"
    },
    "id": "XMAv_Bh2yvJi",
    "outputId": "03fac415-aa24-4e6d-b0cf-ab1dd258ecb7"
   },
   "outputs": [
    {
     "name": "stdout",
     "output_type": "stream",
     "text": [
      "[[9.56489996e-04 1.31751888e-03 4.67002537e-04 ... 1.84918288e-04\n",
      "  1.54801399e-01 1.29914828e-04]\n",
      " [1.40124361e-03 1.19507220e-03 3.88314627e-04 ... 3.23003071e-04\n",
      "  1.69442356e-01 8.25161187e-05]\n",
      " [2.60457722e-03 4.89500817e-03 1.00360904e-03 ... 1.26522884e-03\n",
      "  2.45847002e-01 2.43845861e-04]\n",
      " ...\n",
      " [3.57782794e-03 5.88438124e-04 7.08378560e-04 ... 3.87955311e-04\n",
      "  9.48260799e-02 3.39215709e-04]\n",
      " [3.44264525e-04 2.02349573e-03 2.90970438e-05 ... 1.20812256e-04\n",
      "  1.14419766e-01 3.54282420e-05]\n",
      " [1.04267700e-02 2.54366640e-03 1.36610342e-03 ... 8.87835282e-04\n",
      "  2.31772229e-01 6.53894327e-04]]\n"
     ]
    }
   ],
   "source": [
    "print(pred)"
   ]
  },
  {
   "cell_type": "code",
   "execution_count": 202,
   "metadata": {
    "colab": {
     "base_uri": "https://localhost:8080/"
    },
    "id": "IoNRAjnwy1W3",
    "outputId": "de2b41d6-cf42-483d-fb5d-d0961f6ee58d"
   },
   "outputs": [
    {
     "data": {
      "text/plain": [
       "[[1, 1, 0, 6, 3],\n",
       " [1, 1, 0, 6, 3],\n",
       " [1, 1, 1, 6, 3],\n",
       " [1, 1, 1, 6, 3],\n",
       " [1, 1, 0, 6, 3],\n",
       " [1, 1, 1, 6, 3],\n",
       " [1, 1, 1, 6, 3],\n",
       " [1, 1, 1, 6, 3],\n",
       " [1, 1, 0, 6, 3],\n",
       " [1, 1, 0, 6, 3],\n",
       " [1, 1, 1, 6, 3],\n",
       " [1, 1, 0, 6, 3],\n",
       " [1, 1, 0, 6, 3],\n",
       " [1, 1, 0, 6, 3],\n",
       " [1, 1, 1, 6, 3],\n",
       " [1, 1, 0, 6, 3],\n",
       " [1, 1, 0, 6, 3],\n",
       " [1, 1, 1, 6, 3],\n",
       " [1, 1, 0, 6, 3],\n",
       " [1, 1, 0, 6, 3],\n",
       " [1, 1, 0, 6, 3],\n",
       " [1, 1, 1, 6, 3],\n",
       " [1, 1, 0, 6, 3],\n",
       " [1, 1, 0, 6, 3],\n",
       " [1, 1, 1, 6, 3],\n",
       " [1, 1, 0, 6, 3],\n",
       " [1, 1, 0, 6, 3],\n",
       " [1, 1, 0, 6, 3],\n",
       " [1, 1, 1, 6, 3],\n",
       " [1, 1, 0, 6, 3],\n",
       " [1, 1, 1, 6, 3],\n",
       " [1, 1, 0, 6, 3],\n",
       " [1, 1, 0, 6, 3],\n",
       " [1, 1, 1, 6, 3],\n",
       " [1, 1, 1, 6, 3],\n",
       " [1, 1, 0, 6, 3],\n",
       " [1, 1, 0, 6, 3],\n",
       " [1, 1, 1, 6, 3],\n",
       " [1, 1, 0, 6, 3],\n",
       " [1, 1, 0, 6, 3],\n",
       " [1, 1, 1, 6, 3],\n",
       " [1, 1, 0, 6, 3],\n",
       " [1, 1, 0, 6, 3],\n",
       " [1, 1, 1, 6, 3],\n",
       " [1, 1, 1, 6, 3],\n",
       " [1, 1, 1, 6, 3],\n",
       " [1, 1, 0, 6, 3],\n",
       " [1, 1, 1, 6, 3],\n",
       " [1, 1, 1, 6, 3],\n",
       " [1, 1, 0, 6, 3],\n",
       " [1, 1, 0, 6, 3],\n",
       " [1, 1, 1, 6, 3],\n",
       " [1, 1, 1, 6, 3],\n",
       " [1, 1, 1, 6, 3],\n",
       " [1, 1, 1, 6, 3],\n",
       " [1, 1, 1, 6, 3],\n",
       " [1, 1, 0, 6, 3],\n",
       " [1, 1, 0, 6, 3],\n",
       " [1, 1, 1, 6, 3],\n",
       " [1, 1, 1, 6, 3],\n",
       " [1, 1, 0, 6, 3],\n",
       " [1, 1, 1, 6, 3],\n",
       " [1, 1, 1, 6, 3],\n",
       " [1, 1, 1, 6, 3],\n",
       " [1, 1, 0, 6, 3],\n",
       " [1, 1, 1, 6, 3],\n",
       " [1, 1, 1, 6, 3],\n",
       " [1, 1, 1, 6, 3],\n",
       " [1, 1, 1, 6, 3],\n",
       " [1, 1, 0, 6, 3],\n",
       " [1, 1, 0, 6, 3],\n",
       " [1, 1, 1, 6, 3],\n",
       " [1, 1, 1, 6, 3],\n",
       " [1, 1, 1, 6, 3],\n",
       " [1, 1, 2, 6, 3],\n",
       " [1, 1, 2, 6, 3],\n",
       " [1, 1, 1, 6, 3],\n",
       " [1, 1, 1, 6, 3],\n",
       " [1, 1, 0, 6, 3],\n",
       " [1, 1, 1, 6, 3],\n",
       " [1, 1, 1, 6, 3],\n",
       " [1, 1, 1, 6, 3],\n",
       " [1, 1, 1, 6, 3],\n",
       " [1, 1, 0, 6, 3],\n",
       " [1, 1, 1, 6, 3],\n",
       " [1, 1, 0, 6, 3],\n",
       " [1, 1, 0, 6, 3],\n",
       " [1, 1, 1, 6, 3],\n",
       " [1, 1, 0, 6, 3],\n",
       " [1, 1, 0, 6, 3],\n",
       " [1, 1, 1, 6, 3],\n",
       " [1, 1, 1, 6, 3],\n",
       " [1, 1, 0, 6, 3],\n",
       " [1, 1, 1, 6, 3],\n",
       " [1, 1, 1, 6, 3],\n",
       " [1, 1, 1, 6, 3],\n",
       " [1, 1, 1, 6, 3],\n",
       " [1, 1, 2, 6, 3],\n",
       " [1, 1, 1, 6, 3],\n",
       " [1, 1, 0, 6, 3],\n",
       " [1, 1, 0, 6, 3],\n",
       " [1, 1, 1, 6, 3],\n",
       " [1, 1, 0, 6, 3],\n",
       " [1, 1, 1, 6, 3],\n",
       " [1, 1, 1, 6, 3],\n",
       " [1, 1, 1, 6, 3],\n",
       " [1, 1, 1, 6, 3],\n",
       " [1, 1, 1, 6, 3],\n",
       " [1, 1, 1, 6, 3],\n",
       " [1, 1, 0, 6, 3],\n",
       " [1, 1, 1, 6, 3],\n",
       " [1, 1, 1, 6, 3],\n",
       " [1, 1, 0, 6, 3],\n",
       " [1, 1, 1, 6, 3],\n",
       " [1, 1, 1, 6, 3],\n",
       " [1, 1, 0, 6, 3],\n",
       " [1, 1, 0, 6, 3],\n",
       " [1, 1, 1, 6, 3],\n",
       " [1, 1, 0, 6, 3],\n",
       " [1, 1, 0, 6, 3],\n",
       " [1, 1, 1, 6, 3],\n",
       " [1, 1, 2, 6, 3],\n",
       " [1, 1, 1, 6, 3],\n",
       " [1, 1, 0, 6, 3],\n",
       " [1, 1, 2, 6, 3],\n",
       " [1, 1, 1, 6, 3],\n",
       " [1, 1, 1, 6, 3],\n",
       " [1, 1, 2, 6, 3],\n",
       " [1, 1, 1, 6, 3],\n",
       " [1, 1, 1, 6, 3],\n",
       " [1, 1, 0, 6, 3],\n",
       " [1, 1, 1, 6, 3],\n",
       " [1, 1, 0, 6, 3],\n",
       " [1, 1, 0, 6, 3],\n",
       " [1, 1, 1, 6, 3],\n",
       " [1, 1, 2, 6, 3],\n",
       " [1, 1, 0, 6, 3],\n",
       " [1, 1, 1, 6, 3],\n",
       " [1, 1, 1, 6, 3],\n",
       " [1, 1, 1, 6, 3],\n",
       " [1, 1, 2, 6, 3],\n",
       " [1, 1, 1, 6, 3],\n",
       " [1, 1, 1, 6, 3],\n",
       " [1, 1, 1, 6, 3],\n",
       " [1, 1, 0, 6, 3],\n",
       " [1, 1, 1, 6, 3],\n",
       " [1, 1, 1, 6, 3],\n",
       " [1, 1, 1, 6, 3],\n",
       " [1, 1, 1, 6, 3],\n",
       " [1, 1, 0, 6, 3],\n",
       " [1, 1, 0, 6, 3],\n",
       " [1, 1, 1, 6, 3],\n",
       " [1, 1, 0, 6, 3],\n",
       " [1, 1, 1, 6, 3],\n",
       " [1, 1, 1, 6, 3],\n",
       " [1, 1, 0, 6, 3],\n",
       " [1, 1, 1, 6, 3],\n",
       " [1, 1, 0, 6, 3],\n",
       " [1, 1, 1, 6, 3],\n",
       " [1, 1, 1, 6, 3],\n",
       " [1, 1, 1, 6, 3],\n",
       " [1, 1, 1, 6, 3],\n",
       " [1, 1, 0, 6, 3],\n",
       " [1, 1, 1, 6, 3],\n",
       " [1, 1, 1, 6, 3],\n",
       " [1, 1, 1, 6, 3],\n",
       " [1, 1, 0, 6, 3],\n",
       " [1, 1, 0, 6, 3],\n",
       " [1, 1, 1, 6, 3],\n",
       " [1, 1, 1, 6, 3],\n",
       " [1, 1, 0, 6, 3],\n",
       " [1, 1, 2, 6, 3],\n",
       " [1, 1, 1, 6, 3],\n",
       " [1, 1, 1, 6, 3],\n",
       " [1, 1, 1, 6, 3],\n",
       " [1, 1, 1, 6, 3],\n",
       " [1, 1, 1, 6, 3],\n",
       " [1, 1, 1, 6, 3],\n",
       " [1, 1, 1, 6, 3],\n",
       " [1, 1, 0, 6, 3],\n",
       " [1, 1, 0, 6, 3],\n",
       " [1, 1, 0, 6, 3],\n",
       " [1, 1, 0, 6, 3],\n",
       " [1, 1, 1, 6, 3],\n",
       " [1, 1, 1, 6, 3],\n",
       " [1, 1, 1, 6, 3],\n",
       " [1, 1, 1, 6, 3],\n",
       " [1, 1, 1, 6, 3],\n",
       " [1, 1, 1, 6, 3],\n",
       " [1, 1, 0, 6, 3],\n",
       " [1, 1, 1, 6, 3],\n",
       " [1, 1, 1, 6, 3],\n",
       " [1, 1, 2, 6, 3],\n",
       " [1, 1, 1, 6, 3],\n",
       " [1, 1, 1, 6, 3],\n",
       " [1, 1, 2, 6, 3],\n",
       " [1, 1, 1, 6, 3],\n",
       " [1, 1, 0, 6, 3],\n",
       " [1, 1, 1, 6, 3],\n",
       " [1, 1, 2, 6, 3],\n",
       " [1, 1, 1, 6, 3],\n",
       " [1, 1, 1, 6, 3],\n",
       " [1, 1, 1, 6, 3],\n",
       " [1, 1, 1, 6, 3],\n",
       " [1, 1, 1, 6, 3],\n",
       " [1, 1, 1, 6, 3],\n",
       " [1, 1, 0, 6, 3],\n",
       " [1, 1, 1, 6, 3],\n",
       " [1, 1, 0, 6, 3],\n",
       " [1, 1, 1, 6, 3],\n",
       " [1, 1, 1, 6, 3],\n",
       " [1, 1, 0, 6, 3],\n",
       " [1, 1, 0, 6, 3],\n",
       " [1, 1, 1, 6, 3],\n",
       " [1, 1, 1, 6, 3],\n",
       " [1, 1, 0, 6, 3],\n",
       " [1, 1, 1, 6, 3],\n",
       " [1, 1, 1, 6, 3],\n",
       " [1, 1, 1, 6, 3],\n",
       " [1, 1, 0, 6, 3],\n",
       " [1, 1, 1, 6, 3],\n",
       " [1, 1, 1, 6, 3],\n",
       " [1, 1, 1, 6, 3],\n",
       " [1, 1, 1, 6, 3],\n",
       " [1, 1, 1, 6, 3],\n",
       " [1, 1, 1, 6, 3],\n",
       " [1, 1, 1, 6, 3],\n",
       " [1, 1, 1, 6, 3],\n",
       " [1, 1, 0, 6, 3],\n",
       " [1, 1, 1, 6, 3],\n",
       " [1, 1, 1, 6, 3],\n",
       " [1, 1, 0, 6, 3],\n",
       " [1, 1, 1, 6, 3],\n",
       " [1, 1, 0, 6, 3],\n",
       " [1, 1, 1, 6, 3],\n",
       " [1, 1, 1, 6, 3],\n",
       " [1, 1, 0, 6, 3],\n",
       " [1, 1, 1, 6, 3],\n",
       " [1, 1, 1, 6, 3],\n",
       " [1, 1, 1, 6, 3],\n",
       " [1, 1, 0, 6, 3],\n",
       " [1, 1, 1, 6, 3],\n",
       " [1, 1, 1, 6, 3],\n",
       " [1, 1, 0, 6, 3],\n",
       " [1, 1, 1, 6, 3],\n",
       " [1, 1, 2, 6, 3],\n",
       " [1, 1, 1, 6, 3],\n",
       " [1, 1, 0, 6, 3],\n",
       " [1, 1, 1, 6, 3],\n",
       " [1, 1, 1, 6, 3],\n",
       " [1, 1, 2, 6, 3],\n",
       " [1, 1, 1, 6, 3],\n",
       " [1, 1, 2, 6, 3],\n",
       " [1, 1, 1, 6, 3],\n",
       " [1, 1, 1, 6, 3],\n",
       " [1, 1, 0, 6, 3],\n",
       " [1, 1, 1, 6, 3],\n",
       " [1, 1, 2, 6, 3],\n",
       " [1, 1, 1, 6, 3],\n",
       " [1, 1, 0, 6, 3],\n",
       " [1, 1, 2, 6, 3],\n",
       " [1, 1, 1, 6, 3],\n",
       " [1, 1, 2, 6, 3],\n",
       " [1, 1, 0, 6, 3],\n",
       " [1, 1, 1, 6, 3],\n",
       " [1, 1, 0, 6, 3],\n",
       " [1, 1, 1, 6, 3],\n",
       " [1, 1, 1, 6, 3],\n",
       " [1, 1, 1, 6, 3],\n",
       " [1, 1, 1, 6, 3],\n",
       " [1, 1, 1, 6, 3],\n",
       " [1, 1, 1, 6, 3],\n",
       " [1, 1, 1, 6, 3],\n",
       " [1, 1, 1, 6, 3],\n",
       " [1, 1, 1, 6, 3],\n",
       " [1, 1, 2, 6, 3],\n",
       " [1, 1, 0, 6, 3],\n",
       " [1, 1, 0, 6, 3],\n",
       " [1, 1, 1, 6, 3],\n",
       " [1, 1, 1, 6, 3],\n",
       " [1, 1, 1, 6, 3],\n",
       " [1, 1, 0, 6, 3],\n",
       " [1, 1, 1, 6, 3],\n",
       " [1, 1, 1, 6, 3],\n",
       " [1, 1, 1, 6, 3],\n",
       " [1, 1, 1, 6, 3],\n",
       " [1, 1, 1, 6, 3],\n",
       " [1, 1, 2, 6, 3],\n",
       " [1, 1, 0, 6, 3],\n",
       " [1, 1, 1, 6, 3],\n",
       " [1, 1, 0, 6, 3],\n",
       " [1, 1, 1, 6, 3],\n",
       " [1, 1, 1, 6, 3],\n",
       " [1, 1, 1, 6, 3],\n",
       " [1, 1, 1, 6, 3],\n",
       " [1, 1, 1, 6, 3],\n",
       " [1, 1, 0, 6, 3],\n",
       " [1, 1, 0, 6, 3],\n",
       " [1, 1, 0, 6, 3],\n",
       " [1, 1, 1, 6, 3],\n",
       " [1, 1, 1, 6, 3],\n",
       " [1, 1, 1, 6, 3],\n",
       " [1, 1, 1, 6, 3],\n",
       " [1, 1, 1, 6, 3],\n",
       " [1, 1, 1, 6, 3],\n",
       " [1, 1, 1, 6, 3],\n",
       " [1, 1, 1, 6, 3],\n",
       " [1, 1, 0, 6, 3],\n",
       " [1, 1, 1, 6, 3],\n",
       " [1, 1, 1, 6, 3],\n",
       " [1, 1, 1, 6, 3],\n",
       " [1, 1, 0, 6, 3],\n",
       " [1, 1, 1, 6, 3],\n",
       " [1, 1, 0, 6, 3],\n",
       " [1, 1, 1, 6, 3],\n",
       " [1, 1, 1, 6, 3],\n",
       " [1, 1, 1, 6, 3],\n",
       " [1, 1, 1, 6, 3],\n",
       " [1, 1, 1, 6, 3],\n",
       " [1, 1, 0, 6, 3],\n",
       " [1, 1, 0, 6, 3],\n",
       " [1, 1, 2, 6, 3],\n",
       " [1, 1, 1, 6, 3],\n",
       " [1, 1, 1, 6, 3],\n",
       " [1, 1, 2, 6, 3],\n",
       " [1, 1, 1, 6, 3],\n",
       " [1, 1, 2, 6, 3],\n",
       " [1, 1, 1, 6, 3],\n",
       " [1, 1, 0, 6, 3],\n",
       " [1, 1, 0, 6, 3],\n",
       " [1, 1, 1, 6, 3],\n",
       " [1, 1, 1, 6, 3],\n",
       " [1, 1, 0, 6, 3],\n",
       " [1, 1, 1, 6, 3],\n",
       " [1, 1, 1, 6, 3],\n",
       " [1, 1, 1, 6, 3],\n",
       " [1, 1, 0, 6, 3],\n",
       " [1, 1, 0, 6, 3],\n",
       " [1, 1, 2, 6, 3],\n",
       " [1, 1, 1, 6, 3],\n",
       " [1, 1, 0, 6, 3],\n",
       " [1, 1, 0, 6, 3],\n",
       " [1, 1, 1, 6, 3],\n",
       " [1, 1, 1, 6, 3],\n",
       " [1, 1, 1, 6, 3],\n",
       " [1, 1, 0, 6, 3],\n",
       " [1, 1, 1, 6, 3],\n",
       " [1, 1, 0, 6, 3],\n",
       " [1, 1, 1, 6, 3],\n",
       " [1, 1, 2, 6, 3],\n",
       " [1, 1, 0, 6, 3],\n",
       " [1, 1, 0, 6, 3],\n",
       " [1, 1, 1, 6, 3],\n",
       " [1, 1, 1, 6, 3],\n",
       " [1, 1, 1, 6, 3],\n",
       " [1, 1, 1, 6, 3],\n",
       " [1, 1, 1, 6, 3],\n",
       " [1, 1, 1, 6, 3],\n",
       " [1, 1, 0, 6, 3],\n",
       " [1, 1, 1, 6, 3],\n",
       " [1, 1, 1, 6, 3],\n",
       " [1, 1, 1, 6, 3],\n",
       " [1, 1, 0, 6, 3],\n",
       " [1, 1, 1, 6, 3],\n",
       " [1, 1, 1, 6, 3],\n",
       " [1, 1, 0, 6, 3],\n",
       " [1, 1, 1, 6, 3],\n",
       " [1, 1, 1, 6, 3],\n",
       " [1, 1, 1, 6, 3],\n",
       " [1, 1, 0, 6, 3],\n",
       " [1, 1, 1, 6, 3],\n",
       " [1, 1, 1, 6, 3],\n",
       " [1, 1, 2, 6, 3],\n",
       " [1, 1, 1, 6, 3],\n",
       " [1, 1, 1, 6, 3],\n",
       " [1, 1, 2, 6, 3],\n",
       " [1, 1, 1, 6, 3],\n",
       " [1, 1, 1, 6, 3],\n",
       " [1, 1, 0, 6, 3],\n",
       " [1, 1, 1, 6, 3],\n",
       " [1, 1, 0, 6, 3],\n",
       " [1, 1, 2, 6, 3],\n",
       " [1, 1, 1, 6, 3],\n",
       " [1, 1, 1, 6, 3],\n",
       " [1, 1, 0, 6, 3],\n",
       " [1, 1, 1, 6, 3],\n",
       " [1, 1, 0, 6, 3],\n",
       " [1, 1, 1, 6, 3],\n",
       " [1, 1, 1, 6, 3],\n",
       " [1, 1, 1, 6, 3],\n",
       " [1, 1, 1, 6, 3],\n",
       " [1, 1, 2, 6, 3],\n",
       " [1, 1, 0, 6, 3],\n",
       " [1, 1, 0, 6, 3],\n",
       " [1, 1, 1, 6, 3],\n",
       " [1, 1, 1, 6, 3],\n",
       " [1, 1, 1, 6, 3],\n",
       " [1, 1, 0, 6, 3],\n",
       " [1, 1, 1, 6, 3],\n",
       " [1, 1, 0, 6, 3],\n",
       " [1, 1, 1, 6, 3],\n",
       " [1, 1, 1, 6, 3],\n",
       " [1, 1, 2, 6, 3],\n",
       " [1, 1, 0, 6, 3],\n",
       " [1, 1, 1, 6, 3],\n",
       " [1, 1, 1, 6, 3],\n",
       " [1, 1, 0, 6, 3],\n",
       " [1, 1, 0, 6, 3],\n",
       " [1, 1, 0, 6, 3],\n",
       " [1, 1, 1, 6, 3],\n",
       " [1, 1, 1, 6, 3],\n",
       " [1, 1, 0, 6, 3],\n",
       " [1, 1, 1, 6, 3],\n",
       " [1, 1, 0, 6, 3],\n",
       " [1, 1, 2, 6, 3],\n",
       " [1, 1, 1, 6, 3],\n",
       " [1, 1, 1, 6, 3],\n",
       " [1, 1, 1, 6, 3],\n",
       " [1, 1, 1, 6, 3],\n",
       " [1, 1, 1, 6, 3],\n",
       " [1, 1, 0, 6, 3],\n",
       " [1, 1, 1, 6, 3],\n",
       " [1, 1, 0, 6, 3],\n",
       " [1, 1, 1, 6, 3],\n",
       " [1, 1, 1, 6, 3],\n",
       " [1, 1, 1, 6, 3],\n",
       " [1, 1, 0, 6, 3],\n",
       " [1, 1, 1, 6, 3],\n",
       " [1, 1, 0, 6, 3],\n",
       " [1, 1, 2, 6, 3],\n",
       " [1, 1, 1, 6, 3],\n",
       " [1, 1, 1, 6, 3],\n",
       " [1, 1, 0, 6, 3],\n",
       " [1, 1, 1, 6, 3],\n",
       " [1, 1, 0, 6, 3],\n",
       " [1, 1, 0, 6, 3],\n",
       " [1, 1, 1, 6, 3],\n",
       " [1, 1, 0, 6, 3],\n",
       " [1, 1, 1, 6, 3],\n",
       " [1, 1, 1, 6, 3],\n",
       " [1, 1, 0, 6, 3],\n",
       " [1, 1, 0, 6, 3],\n",
       " [1, 1, 1, 6, 3],\n",
       " [1, 1, 2, 6, 3],\n",
       " [1, 1, 2, 6, 3],\n",
       " [1, 1, 0, 6, 3],\n",
       " [1, 1, 1, 6, 3],\n",
       " [1, 1, 1, 6, 3],\n",
       " [1, 1, 0, 6, 3],\n",
       " [1, 1, 0, 6, 3],\n",
       " [1, 1, 0, 6, 3],\n",
       " [1, 1, 1, 6, 3],\n",
       " [1, 1, 1, 6, 3],\n",
       " [1, 1, 1, 6, 3],\n",
       " [1, 1, 2, 6, 3],\n",
       " [1, 1, 1, 6, 3],\n",
       " [1, 1, 1, 6, 3],\n",
       " [1, 1, 1, 6, 3],\n",
       " [1, 1, 2, 6, 3],\n",
       " [1, 1, 1, 6, 3],\n",
       " [1, 1, 2, 6, 3],\n",
       " [1, 1, 1, 6, 3],\n",
       " [1, 1, 1, 6, 3],\n",
       " [1, 1, 2, 6, 3],\n",
       " [1, 1, 1, 6, 3],\n",
       " [1, 1, 0, 6, 3],\n",
       " [1, 1, 1, 6, 3],\n",
       " [1, 1, 0, 6, 3],\n",
       " [1, 1, 1, 6, 3],\n",
       " [1, 1, 0, 6, 3],\n",
       " [1, 1, 0, 6, 3],\n",
       " [1, 1, 0, 6, 3],\n",
       " [1, 1, 1, 6, 3],\n",
       " [1, 1, 0, 6, 3],\n",
       " [1, 1, 0, 6, 3],\n",
       " [1, 1, 0, 6, 3],\n",
       " [1, 1, 0, 6, 3],\n",
       " [1, 1, 1, 6, 3],\n",
       " [1, 1, 2, 6, 3],\n",
       " [1, 1, 1, 6, 3],\n",
       " [1, 1, 1, 6, 3],\n",
       " [1, 1, 1, 6, 3],\n",
       " [1, 1, 1, 6, 3],\n",
       " [1, 1, 1, 6, 3],\n",
       " [1, 1, 0, 6, 3],\n",
       " [1, 1, 0, 6, 3],\n",
       " [1, 1, 0, 6, 3],\n",
       " [1, 1, 1, 6, 3],\n",
       " [1, 1, 1, 6, 3],\n",
       " [1, 1, 1, 6, 3],\n",
       " [1, 1, 0, 6, 3],\n",
       " [1, 1, 2, 6, 3],\n",
       " [1, 1, 1, 6, 3],\n",
       " [1, 1, 0, 6, 3],\n",
       " [1, 1, 0, 6, 3],\n",
       " [1, 1, 2, 6, 3],\n",
       " [1, 1, 1, 6, 3],\n",
       " [1, 1, 0, 6, 3],\n",
       " [1, 1, 2, 6, 3],\n",
       " [1, 1, 2, 6, 3],\n",
       " [1, 1, 1, 6, 3],\n",
       " [1, 1, 0, 6, 3],\n",
       " [1, 1, 0, 6, 3],\n",
       " [1, 1, 0, 6, 3],\n",
       " [1, 1, 0, 6, 3],\n",
       " [1, 1, 1, 6, 3],\n",
       " [1, 1, 1, 6, 3],\n",
       " [1, 1, 0, 6, 3],\n",
       " [1, 1, 1, 6, 3],\n",
       " [1, 1, 0, 6, 3],\n",
       " [1, 1, 1, 6, 3],\n",
       " [1, 1, 1, 6, 3],\n",
       " [1, 1, 1, 6, 3],\n",
       " [1, 1, 0, 6, 3],\n",
       " [1, 1, 2, 6, 3],\n",
       " [1, 1, 1, 6, 3],\n",
       " [1, 1, 1, 6, 3],\n",
       " [1, 1, 1, 6, 3],\n",
       " [1, 1, 1, 6, 3],\n",
       " [1, 1, 1, 6, 3],\n",
       " [1, 1, 1, 6, 3],\n",
       " [1, 1, 0, 6, 3],\n",
       " [1, 1, 1, 6, 3],\n",
       " [1, 1, 0, 6, 3],\n",
       " [1, 1, 1, 6, 3],\n",
       " [1, 1, 0, 6, 3],\n",
       " [1, 1, 0, 6, 3],\n",
       " [1, 1, 1, 6, 3],\n",
       " [1, 1, 1, 6, 3],\n",
       " [1, 1, 1, 6, 3],\n",
       " [1, 1, 1, 6, 3],\n",
       " [1, 1, 1, 6, 3],\n",
       " [1, 1, 0, 6, 3],\n",
       " [1, 1, 0, 6, 3],\n",
       " [1, 1, 0, 6, 3],\n",
       " [1, 1, 0, 6, 3],\n",
       " [1, 1, 2, 6, 3],\n",
       " [1, 1, 1, 6, 3],\n",
       " [1, 1, 2, 6, 3],\n",
       " [1, 1, 0, 6, 3],\n",
       " [1, 1, 1, 6, 3],\n",
       " [1, 1, 0, 6, 3],\n",
       " [1, 1, 0, 6, 3],\n",
       " [1, 1, 1, 6, 3],\n",
       " [1, 1, 1, 6, 3],\n",
       " [1, 1, 0, 6, 3],\n",
       " [1, 1, 1, 6, 3],\n",
       " [1, 1, 1, 6, 3],\n",
       " [1, 1, 1, 6, 3],\n",
       " [1, 1, 0, 6, 3],\n",
       " [1, 1, 2, 6, 3],\n",
       " [1, 1, 1, 6, 3],\n",
       " [1, 1, 1, 6, 3],\n",
       " [1, 1, 1, 6, 3],\n",
       " [1, 1, 0, 6, 3],\n",
       " [1, 1, 1, 6, 3],\n",
       " [1, 1, 0, 6, 3],\n",
       " [1, 1, 2, 6, 3],\n",
       " [1, 1, 0, 6, 3],\n",
       " [1, 1, 2, 6, 3],\n",
       " [1, 1, 0, 6, 3],\n",
       " [1, 1, 1, 6, 3],\n",
       " [1, 1, 1, 6, 3],\n",
       " [1, 1, 1, 6, 3],\n",
       " [1, 1, 0, 6, 3],\n",
       " [1, 1, 1, 6, 3],\n",
       " [1, 1, 1, 6, 3],\n",
       " [1, 1, 1, 6, 3],\n",
       " [1, 1, 1, 6, 3],\n",
       " [1, 1, 1, 6, 3],\n",
       " [1, 1, 1, 6, 3],\n",
       " [1, 1, 0, 6, 3],\n",
       " [1, 1, 0, 6, 3],\n",
       " [1, 1, 1, 6, 3],\n",
       " [1, 1, 1, 6, 3],\n",
       " [1, 1, 2, 6, 3],\n",
       " [1, 1, 1, 6, 3],\n",
       " [1, 1, 1, 6, 3],\n",
       " [1, 1, 1, 6, 3],\n",
       " [1, 1, 1, 6, 3],\n",
       " [1, 1, 1, 6, 3],\n",
       " [1, 1, 2, 6, 3],\n",
       " [1, 1, 0, 6, 3],\n",
       " [1, 1, 2, 6, 3],\n",
       " [1, 1, 1, 6, 3],\n",
       " [1, 1, 1, 6, 3],\n",
       " [1, 1, 1, 6, 3],\n",
       " [1, 1, 1, 6, 3],\n",
       " [1, 1, 1, 6, 3],\n",
       " [1, 1, 0, 6, 3],\n",
       " [1, 1, 1, 6, 3],\n",
       " [1, 1, 1, 6, 3],\n",
       " [1, 1, 1, 6, 3],\n",
       " [1, 1, 0, 6, 3],\n",
       " [1, 1, 2, 6, 3],\n",
       " [1, 1, 0, 6, 3],\n",
       " [1, 1, 1, 6, 3],\n",
       " [1, 1, 1, 6, 3],\n",
       " [1, 1, 0, 6, 3],\n",
       " [1, 1, 1, 6, 3],\n",
       " [1, 1, 1, 6, 3],\n",
       " [1, 1, 0, 6, 3],\n",
       " [1, 1, 0, 6, 3],\n",
       " [1, 1, 1, 6, 3],\n",
       " [1, 1, 0, 6, 3],\n",
       " [1, 1, 2, 6, 3],\n",
       " [1, 1, 1, 6, 3],\n",
       " [1, 1, 0, 6, 3],\n",
       " [1, 1, 1, 6, 3],\n",
       " [1, 1, 1, 6, 3],\n",
       " [1, 1, 1, 6, 3],\n",
       " [1, 1, 0, 6, 3],\n",
       " [1, 1, 1, 6, 3],\n",
       " [1, 1, 0, 6, 3],\n",
       " [1, 1, 1, 6, 3],\n",
       " [1, 1, 0, 6, 3],\n",
       " [1, 1, 0, 6, 3],\n",
       " [1, 1, 0, 6, 3],\n",
       " [1, 1, 1, 6, 3],\n",
       " [1, 1, 0, 6, 3],\n",
       " [1, 1, 1, 6, 3],\n",
       " [1, 1, 1, 6, 3],\n",
       " [1, 1, 1, 6, 3],\n",
       " [1, 1, 0, 6, 3],\n",
       " [1, 1, 0, 6, 3],\n",
       " [1, 1, 1, 6, 3],\n",
       " [1, 1, 0, 6, 3],\n",
       " [1, 1, 1, 6, 3],\n",
       " [1, 1, 0, 6, 3],\n",
       " [1, 1, 1, 6, 3],\n",
       " [1, 1, 1, 6, 3],\n",
       " [1, 1, 0, 6, 3],\n",
       " [1, 1, 1, 6, 3],\n",
       " [1, 1, 1, 6, 3],\n",
       " [1, 1, 2, 6, 3],\n",
       " [1, 1, 1, 6, 3],\n",
       " [1, 1, 0, 6, 3],\n",
       " [1, 1, 1, 6, 3],\n",
       " [1, 1, 1, 6, 3],\n",
       " [1, 1, 1, 6, 3],\n",
       " [1, 1, 1, 6, 3],\n",
       " [1, 1, 1, 6, 3],\n",
       " [1, 1, 1, 6, 3],\n",
       " [1, 1, 1, 6, 3],\n",
       " [1, 1, 2, 6, 3],\n",
       " [1, 1, 0, 6, 3],\n",
       " [1, 1, 1, 6, 3],\n",
       " [1, 1, 1, 6, 3],\n",
       " [1, 1, 1, 6, 3],\n",
       " [1, 1, 1, 6, 3],\n",
       " [1, 1, 0, 6, 3],\n",
       " [1, 1, 2, 6, 3],\n",
       " [1, 1, 1, 6, 3],\n",
       " [1, 1, 1, 6, 3],\n",
       " [1, 1, 2, 6, 3],\n",
       " [1, 1, 0, 6, 3],\n",
       " [1, 1, 0, 6, 3],\n",
       " [1, 1, 1, 6, 3],\n",
       " [1, 1, 0, 6, 3],\n",
       " [1, 1, 1, 6, 3],\n",
       " [1, 1, 0, 6, 3],\n",
       " [1, 1, 0, 6, 3],\n",
       " [1, 1, 0, 6, 3],\n",
       " [1, 1, 2, 6, 3],\n",
       " [1, 1, 2, 6, 3],\n",
       " [1, 1, 0, 6, 3],\n",
       " [1, 1, 1, 6, 3],\n",
       " [1, 1, 0, 6, 3],\n",
       " [1, 1, 1, 6, 3],\n",
       " [1, 1, 1, 6, 3],\n",
       " [1, 1, 2, 6, 3],\n",
       " [1, 1, 1, 6, 3],\n",
       " [1, 1, 0, 6, 3],\n",
       " [1, 1, 0, 6, 3],\n",
       " [1, 1, 1, 6, 3],\n",
       " [1, 1, 0, 6, 3],\n",
       " [1, 1, 1, 6, 3],\n",
       " [1, 1, 1, 6, 3],\n",
       " [1, 1, 1, 6, 3],\n",
       " [1, 1, 0, 6, 3],\n",
       " [1, 1, 0, 6, 3],\n",
       " [1, 1, 1, 6, 3],\n",
       " [1, 1, 2, 6, 3],\n",
       " [1, 1, 2, 6, 3],\n",
       " [1, 1, 1, 6, 3],\n",
       " [1, 1, 0, 6, 3],\n",
       " [1, 1, 1, 6, 3],\n",
       " [1, 1, 1, 6, 3],\n",
       " [1, 1, 1, 6, 3],\n",
       " [1, 1, 0, 6, 3],\n",
       " [1, 1, 0, 6, 3],\n",
       " [1, 1, 1, 6, 3],\n",
       " [1, 1, 0, 6, 3],\n",
       " [1, 1, 1, 6, 3],\n",
       " [1, 1, 1, 6, 3],\n",
       " [1, 1, 0, 6, 3],\n",
       " [1, 1, 0, 6, 3],\n",
       " [1, 1, 1, 6, 3],\n",
       " [1, 1, 1, 6, 3],\n",
       " [1, 1, 0, 6, 3],\n",
       " [1, 1, 2, 6, 3],\n",
       " [1, 1, 1, 6, 3],\n",
       " [1, 1, 1, 6, 3],\n",
       " [1, 1, 0, 6, 3],\n",
       " [1, 1, 1, 6, 3],\n",
       " [1, 1, 2, 6, 3],\n",
       " [1, 1, 1, 6, 3],\n",
       " [1, 1, 1, 6, 3],\n",
       " [1, 1, 1, 6, 3],\n",
       " [1, 1, 1, 6, 3],\n",
       " [1, 1, 1, 6, 3],\n",
       " [1, 1, 1, 6, 3],\n",
       " [1, 1, 0, 6, 3],\n",
       " [1, 1, 1, 6, 3],\n",
       " [1, 1, 1, 6, 3],\n",
       " [1, 1, 1, 6, 3],\n",
       " [1, 1, 1, 6, 3],\n",
       " [1, 1, 1, 6, 3],\n",
       " [1, 1, 2, 6, 3],\n",
       " [1, 1, 1, 6, 3],\n",
       " [1, 1, 0, 6, 3],\n",
       " [1, 1, 0, 6, 3],\n",
       " [1, 1, 0, 6, 3],\n",
       " [1, 1, 1, 6, 3],\n",
       " [1, 1, 2, 6, 3],\n",
       " [1, 1, 2, 6, 3],\n",
       " [1, 1, 0, 6, 3],\n",
       " [1, 1, 0, 6, 3],\n",
       " [1, 1, 1, 6, 3],\n",
       " [1, 1, 0, 6, 3],\n",
       " [1, 1, 1, 6, 3],\n",
       " [1, 1, 1, 6, 3],\n",
       " [1, 1, 1, 6, 3],\n",
       " [1, 1, 0, 6, 3],\n",
       " [1, 1, 1, 6, 3],\n",
       " [1, 1, 1, 6, 3],\n",
       " [1, 1, 1, 6, 3],\n",
       " [1, 1, 0, 6, 3],\n",
       " [1, 1, 2, 6, 3],\n",
       " [1, 1, 1, 6, 3],\n",
       " [1, 1, 1, 6, 3],\n",
       " [1, 1, 1, 6, 3],\n",
       " [1, 1, 1, 6, 3],\n",
       " [1, 1, 1, 6, 3],\n",
       " [1, 1, 0, 6, 3],\n",
       " [1, 1, 0, 6, 3],\n",
       " [1, 1, 1, 6, 3],\n",
       " [1, 1, 0, 6, 3],\n",
       " [1, 1, 0, 6, 3],\n",
       " [1, 1, 0, 6, 3],\n",
       " [1, 1, 2, 6, 3],\n",
       " [1, 1, 1, 6, 3],\n",
       " [1, 1, 0, 6, 3],\n",
       " [1, 1, 2, 6, 3],\n",
       " [1, 1, 1, 6, 3],\n",
       " [1, 1, 0, 6, 3],\n",
       " [1, 1, 1, 6, 3],\n",
       " [1, 1, 1, 6, 3],\n",
       " [1, 1, 0, 6, 3],\n",
       " [1, 1, 1, 6, 3],\n",
       " [1, 1, 2, 6, 3],\n",
       " [1, 1, 0, 6, 3],\n",
       " [1, 1, 0, 6, 3],\n",
       " [1, 1, 0, 6, 3],\n",
       " [1, 1, 1, 6, 3],\n",
       " [1, 1, 1, 6, 3],\n",
       " [1, 1, 0, 6, 3],\n",
       " [1, 1, 1, 6, 3],\n",
       " [1, 1, 0, 6, 3],\n",
       " [1, 1, 2, 6, 3],\n",
       " [1, 1, 1, 6, 3],\n",
       " [1, 1, 1, 6, 3],\n",
       " [1, 1, 1, 6, 3],\n",
       " [1, 1, 2, 6, 3],\n",
       " [1, 1, 1, 6, 3],\n",
       " [1, 1, 1, 6, 3],\n",
       " [1, 1, 2, 6, 3],\n",
       " [1, 1, 0, 6, 3],\n",
       " [1, 1, 1, 6, 3],\n",
       " [1, 1, 1, 6, 3],\n",
       " [1, 1, 1, 6, 3],\n",
       " [1, 1, 0, 6, 3],\n",
       " [1, 1, 1, 6, 3],\n",
       " [1, 1, 2, 6, 3],\n",
       " [1, 1, 1, 6, 3],\n",
       " [1, 1, 2, 6, 3],\n",
       " [1, 1, 1, 6, 3],\n",
       " [1, 1, 0, 6, 3],\n",
       " [1, 1, 0, 6, 3],\n",
       " [1, 1, 0, 6, 3],\n",
       " [1, 1, 2, 6, 3],\n",
       " [1, 1, 1, 6, 3],\n",
       " [1, 1, 1, 6, 3],\n",
       " [1, 1, 0, 6, 3],\n",
       " [1, 1, 0, 6, 3],\n",
       " [1, 1, 2, 6, 3],\n",
       " [1, 1, 0, 6, 3],\n",
       " [1, 1, 1, 6, 3],\n",
       " [1, 1, 1, 6, 3],\n",
       " [1, 1, 1, 6, 3],\n",
       " [1, 1, 0, 6, 3],\n",
       " [1, 1, 0, 6, 3],\n",
       " [1, 1, 2, 6, 3],\n",
       " [1, 1, 0, 6, 3],\n",
       " [1, 1, 1, 6, 3],\n",
       " [1, 1, 0, 6, 3],\n",
       " [1, 1, 0, 6, 3],\n",
       " [1, 1, 1, 6, 3],\n",
       " [1, 1, 1, 6, 3],\n",
       " [1, 1, 1, 6, 3],\n",
       " [1, 1, 1, 6, 3],\n",
       " [1, 1, 1, 6, 3],\n",
       " [1, 1, 1, 6, 3],\n",
       " [1, 1, 0, 6, 3],\n",
       " [1, 1, 0, 6, 3],\n",
       " [1, 1, 1, 6, 3],\n",
       " [1, 1, 0, 6, 3],\n",
       " [1, 1, 1, 6, 3],\n",
       " [1, 1, 1, 6, 3],\n",
       " [1, 1, 0, 6, 3],\n",
       " [1, 1, 1, 6, 3],\n",
       " [1, 1, 0, 6, 3],\n",
       " [1, 1, 1, 6, 3],\n",
       " [1, 1, 1, 6, 3],\n",
       " [1, 1, 1, 6, 3],\n",
       " [1, 1, 1, 6, 3],\n",
       " [1, 1, 0, 6, 3],\n",
       " [1, 1, 1, 6, 3],\n",
       " [1, 1, 1, 6, 3],\n",
       " [1, 1, 0, 6, 3],\n",
       " [1, 1, 1, 6, 3],\n",
       " [1, 1, 0, 6, 3],\n",
       " [1, 1, 0, 6, 3],\n",
       " [1, 1, 0, 6, 3],\n",
       " [1, 1, 1, 6, 3],\n",
       " [1, 1, 1, 6, 3],\n",
       " [1, 1, 0, 6, 3],\n",
       " [1, 1, 0, 6, 3],\n",
       " [1, 1, 1, 6, 3],\n",
       " [1, 1, 1, 6, 3],\n",
       " [1, 1, 1, 6, 3],\n",
       " [1, 1, 0, 6, 3],\n",
       " [1, 1, 1, 6, 3],\n",
       " [1, 1, 1, 6, 3],\n",
       " [1, 1, 2, 6, 3],\n",
       " [1, 1, 1, 6, 3],\n",
       " [1, 1, 0, 6, 3],\n",
       " [1, 1, 0, 6, 3],\n",
       " [1, 1, 1, 6, 3],\n",
       " [1, 1, 0, 6, 3],\n",
       " [1, 1, 0, 6, 3],\n",
       " [1, 1, 1, 6, 3],\n",
       " [1, 1, 2, 6, 3],\n",
       " [1, 1, 0, 6, 3],\n",
       " [1, 1, 1, 6, 3],\n",
       " [1, 1, 1, 6, 3],\n",
       " [1, 1, 1, 6, 3],\n",
       " [1, 1, 0, 6, 3],\n",
       " [1, 1, 0, 6, 3],\n",
       " [1, 1, 1, 6, 3],\n",
       " [1, 1, 1, 6, 3],\n",
       " [1, 1, 0, 6, 3],\n",
       " [1, 1, 1, 6, 3],\n",
       " [1, 1, 1, 6, 3],\n",
       " [1, 1, 1, 6, 3],\n",
       " [1, 1, 1, 6, 3],\n",
       " [1, 1, 1, 6, 3],\n",
       " [1, 1, 1, 6, 3],\n",
       " [1, 1, 0, 6, 3],\n",
       " [1, 1, 0, 6, 3],\n",
       " [1, 1, 0, 6, 3],\n",
       " [1, 1, 1, 6, 3],\n",
       " [1, 1, 1, 6, 3],\n",
       " [1, 1, 1, 6, 3],\n",
       " [1, 1, 1, 6, 3],\n",
       " [1, 1, 1, 6, 3],\n",
       " [1, 1, 0, 6, 3],\n",
       " [1, 1, 2, 6, 3],\n",
       " [1, 1, 2, 6, 3],\n",
       " [1, 1, 0, 6, 3],\n",
       " [1, 1, 0, 6, 3],\n",
       " [1, 1, 0, 6, 3],\n",
       " [1, 1, 1, 6, 3],\n",
       " [1, 1, 1, 6, 3],\n",
       " [1, 1, 1, 6, 3],\n",
       " [1, 1, 0, 6, 3],\n",
       " [1, 1, 1, 6, 3],\n",
       " [1, 1, 2, 6, 3],\n",
       " [1, 1, 1, 6, 3],\n",
       " [1, 1, 1, 6, 3],\n",
       " [1, 1, 1, 6, 3],\n",
       " [1, 1, 1, 6, 3],\n",
       " [1, 1, 1, 6, 3],\n",
       " [1, 1, 2, 6, 3],\n",
       " [1, 1, 1, 6, 3],\n",
       " [1, 1, 0, 6, 3],\n",
       " [1, 1, 1, 6, 3],\n",
       " [1, 1, 1, 6, 3],\n",
       " [1, 1, 1, 6, 3],\n",
       " [1, 1, 0, 6, 3],\n",
       " [1, 1, 0, 6, 3],\n",
       " [1, 1, 1, 6, 3],\n",
       " [1, 1, 0, 6, 3],\n",
       " [1, 1, 1, 6, 3],\n",
       " [1, 1, 1, 6, 3],\n",
       " [1, 1, 1, 6, 3],\n",
       " [1, 1, 2, 6, 3],\n",
       " [1, 1, 2, 6, 3],\n",
       " [1, 1, 1, 6, 3],\n",
       " [1, 1, 0, 6, 3],\n",
       " [1, 1, 1, 6, 3],\n",
       " [1, 1, 0, 6, 3],\n",
       " [1, 1, 0, 6, 3],\n",
       " [1, 1, 1, 6, 3],\n",
       " [1, 1, 0, 6, 3],\n",
       " [1, 1, 1, 6, 3],\n",
       " [1, 1, 1, 6, 3],\n",
       " [1, 1, 0, 6, 3],\n",
       " [1, 1, 1, 6, 3],\n",
       " [1, 1, 0, 6, 3],\n",
       " [1, 1, 1, 6, 3],\n",
       " [1, 1, 1, 6, 3],\n",
       " [1, 1, 1, 6, 3],\n",
       " [1, 1, 1, 6, 3],\n",
       " [1, 1, 1, 6, 3],\n",
       " [1, 1, 1, 6, 3],\n",
       " [1, 1, 1, 6, 3],\n",
       " [1, 1, 1, 6, 3],\n",
       " [1, 1, 0, 6, 3],\n",
       " [1, 1, 0, 6, 3],\n",
       " [1, 1, 1, 6, 3],\n",
       " [1, 1, 0, 6, 3],\n",
       " [1, 1, 0, 6, 3],\n",
       " [1, 1, 1, 6, 3],\n",
       " [1, 1, 0, 6, 3],\n",
       " [1, 1, 1, 6, 3],\n",
       " [1, 1, 0, 6, 3],\n",
       " [1, 1, 0, 6, 3],\n",
       " [1, 1, 1, 6, 3],\n",
       " [1, 1, 1, 6, 3],\n",
       " [1, 1, 2, 6, 3],\n",
       " [1, 1, 1, 6, 3],\n",
       " [1, 1, 1, 6, 3],\n",
       " [1, 1, 1, 6, 3],\n",
       " [1, 1, 1, 6, 3],\n",
       " [1, 1, 1, 6, 3],\n",
       " [1, 1, 1, 6, 3],\n",
       " [1, 1, 1, 6, 3],\n",
       " [1, 1, 0, 6, 3],\n",
       " [1, 1, 0, 6, 3],\n",
       " [1, 1, 1, 6, 3],\n",
       " [1, 1, 0, 6, 3],\n",
       " [1, 1, 1, 6, 3],\n",
       " [1, 1, 0, 6, 3],\n",
       " [1, 1, 2, 6, 3],\n",
       " [1, 1, 1, 6, 3],\n",
       " [1, 1, 2, 6, 3],\n",
       " [1, 1, 0, 6, 3],\n",
       " [1, 1, 0, 6, 3],\n",
       " [1, 1, 1, 6, 3],\n",
       " [1, 1, 1, 6, 3],\n",
       " [1, 1, 0, 6, 3],\n",
       " [1, 1, 1, 6, 3],\n",
       " [1, 1, 2, 6, 3],\n",
       " [1, 1, 0, 6, 3],\n",
       " [1, 1, 1, 6, 3],\n",
       " [1, 1, 1, 6, 3],\n",
       " [1, 1, 1, 6, 3],\n",
       " [1, 1, 1, 6, 3],\n",
       " [1, 1, 1, 6, 3],\n",
       " [1, 1, 1, 6, 3],\n",
       " [1, 1, 1, 6, 3],\n",
       " [1, 1, 0, 6, 3],\n",
       " [1, 1, 1, 6, 3],\n",
       " [1, 1, 0, 6, 3],\n",
       " [1, 1, 1, 6, 3],\n",
       " [1, 1, 1, 6, 3],\n",
       " [1, 1, 1, 6, 3],\n",
       " [1, 1, 1, 6, 3],\n",
       " [1, 1, 0, 6, 3],\n",
       " [1, 1, 1, 6, 3],\n",
       " [1, 1, 2, 6, 3],\n",
       " [1, 1, 1, 6, 3],\n",
       " [1, 1, 2, 6, 3],\n",
       " [1, 1, 0, 6, 3],\n",
       " [1, 1, 1, 6, 3],\n",
       " [1, 1, 1, 6, 3],\n",
       " [1, 1, 0, 6, 3],\n",
       " [1, 1, 0, 6, 3],\n",
       " [1, 1, 1, 6, 3],\n",
       " [1, 1, 1, 6, 3],\n",
       " [1, 1, 1, 6, 3],\n",
       " [1, 1, 1, 6, 3],\n",
       " [1, 1, 1, 6, 3],\n",
       " [1, 1, 1, 6, 3],\n",
       " [1, 1, 0, 6, 3],\n",
       " [1, 1, 1, 6, 3],\n",
       " [1, 1, 0, 6, 3],\n",
       " [1, 1, 0, 6, 3],\n",
       " [1, 1, 1, 6, 3],\n",
       " ...]"
      ]
     },
     "execution_count": 202,
     "metadata": {
      "tags": []
     },
     "output_type": "execute_result"
    }
   ],
   "source": [
    "preds =  []\n",
    "for i in range(len(pred)):\n",
    "  pr = []\n",
    "  for j in range(len(pred[i])):\n",
    "    #for wrinkles and freakles \n",
    "    if (j==0) or (j==1):\n",
    "      if pred[i][j] >0.5:\n",
    "          pr.append(1)\n",
    "      else:\n",
    "        pr.append(1)\n",
    "    #for glasses \n",
    "    if j==2:\n",
    "      z = np.array(pred[i][j:j+3])\n",
    "      #print(z)\n",
    "      #print(np.argmax(z))\n",
    "  \n",
    "      pr.append(np.argmax(z))\n",
    "      \n",
    "    #hair_colour\n",
    "    if j==5:\n",
    "      z = np.array(pred[i][j:j+9])    \n",
    "      pr.append(np.argmax(z))\n",
    "\n",
    "    if j==14:\n",
    "      z = np.array(pred[i][j:])\n",
    "      pr.append(np.argmax(z))\n",
    "  preds.append(pr)\n",
    "preds"
   ]
  },
  {
   "cell_type": "code",
   "execution_count": 203,
   "metadata": {
    "colab": {
     "base_uri": "https://localhost:8080/"
    },
    "id": "9uYB29tIv-y_",
    "outputId": "ac97a709-1955-4b52-d9bb-056fc332e74e"
   },
   "outputs": [
    {
     "name": "stderr",
     "output_type": "stream",
     "text": [
      "/usr/local/lib/python3.7/dist-packages/PIL/TiffImagePlugin.py:788: UserWarning: Corrupt EXIF data.  Expecting to read 4 bytes but only got 0. \n",
      "  warnings.warn(str(msg))\n"
     ]
    },
    {
     "name": "stdout",
     "output_type": "stream",
     "text": [
      "12/46 [======>.......................] - ETA: 56s - loss: 0.3333 - precision: 0.9077 - f1_score: 0.4226"
     ]
    },
    {
     "name": "stderr",
     "output_type": "stream",
     "text": [
      "/usr/local/lib/python3.7/dist-packages/PIL/Image.py:960: UserWarning: Palette images with Transparency expressed in bytes should be converted to RGBA images\n",
      "  \"Palette images with Transparency expressed in bytes should be \"\n"
     ]
    },
    {
     "name": "stdout",
     "output_type": "stream",
     "text": [
      "46/46 [==============================] - 77s 2s/step - loss: 0.3331 - precision: 0.9055 - f1_score: 0.4206\n"
     ]
    }
   ],
   "source": [
    "pred = scratch_model.evaluate(test_gen,batch_size  = 16)"
   ]
  },
  {
   "cell_type": "code",
   "execution_count": 203,
   "metadata": {
    "id": "YU3ca-ni9FLu"
   },
   "outputs": [],
   "source": []
  }
 ],
 "metadata": {
  "accelerator": "GPU",
  "colab": {
   "collapsed_sections": [],
   "name": "training_code.ipynb",
   "provenance": []
  },
  "kernelspec": {
   "display_name": "Python 3",
   "language": "python",
   "name": "python3"
  },
  "language_info": {
   "codemirror_mode": {
    "name": "ipython",
    "version": 3
   },
   "file_extension": ".py",
   "mimetype": "text/x-python",
   "name": "python",
   "nbconvert_exporter": "python",
   "pygments_lexer": "ipython3",
   "version": "3.8.5"
  }
 },
 "nbformat": 4,
 "nbformat_minor": 1
}
