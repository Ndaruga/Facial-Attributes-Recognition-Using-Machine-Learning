{
 "cells": [
  {
   "cell_type": "code",
   "execution_count": null,
   "metadata": {
    "id": "-qcjYrG6UpG_"
   },
   "outputs": [],
   "source": []
  },
  {
   "cell_type": "code",
   "execution_count": 1,
   "metadata": {
    "colab": {
     "base_uri": "https://localhost:8080/"
    },
    "id": "OBNt_3eeUbuG",
    "outputId": "c9fc0f37-572b-4a2a-ceff-f17b5b3ac736"
   },
   "outputs": [
    {
     "name": "stdout",
     "output_type": "stream",
     "text": [
      "Requirement already satisfied: tensorflow-addons in /usr/local/lib/python3.7/dist-packages (0.12.1)\n",
      "Requirement already satisfied: typeguard>=2.7 in /usr/local/lib/python3.7/dist-packages (from tensorflow-addons) (2.7.1)\n",
      "Requirement already satisfied: patool in /usr/local/lib/python3.7/dist-packages (1.12)\n"
     ]
    }
   ],
   "source": [
    "import tensorflow as tf\n",
    "import pandas as pd\n",
    "from tensorflow.keras.preprocessing.image import ImageDataGenerator\n",
    "import numpy as np\n",
    "!pip install tensorflow-addons\n",
    "import tensorflow_addons as tfa\n",
    "!pip install patool\n",
    "import patoolib\n",
    "import os\n"
   ]
  },
  {
   "cell_type": "code",
   "execution_count": 16,
   "metadata": {
    "id": "CiIoRbs1LuTl"
   },
   "outputs": [],
   "source": [
    "\n",
    "model  = tf.keras.models.load_model('/content/drive/MyDrive/model/mymodel')"
   ]
  },
  {
   "cell_type": "code",
   "execution_count": 3,
   "metadata": {
    "colab": {
     "base_uri": "https://localhost:8080/",
     "height": 110
    },
    "id": "8keTs0IjBUA5",
    "outputId": "c8cb53bb-0eba-49d9-f288-e8a502dd7c8e"
   },
   "outputs": [
    {
     "name": "stdout",
     "output_type": "stream",
     "text": [
      "patool: Extracting /content/test_images.rar ...\n",
      "patool: running /usr/bin/unrar x -- /content/test_images.rar\n",
      "patool:     with cwd='./Unpack_x_l6mz7w'\n",
      "patool: ... /content/test_images.rar extracted to `test_images1' (local file exists).\n"
     ]
    },
    {
     "data": {
      "application/vnd.google.colaboratory.intrinsic+json": {
       "type": "string"
      },
      "text/plain": [
       "'test_images1'"
      ]
     },
     "execution_count": 3,
     "metadata": {
      "tags": []
     },
     "output_type": "execute_result"
    }
   ],
   "source": [
    "\n",
    "patoolib.extract_archive('/content/test_images.rar')"
   ]
  },
  {
   "cell_type": "code",
   "execution_count": 23,
   "metadata": {
    "id": "cylzaCwYQHIr"
   },
   "outputs": [],
   "source": []
  },
  {
   "cell_type": "code",
   "execution_count": 5,
   "metadata": {
    "colab": {
     "base_uri": "https://localhost:8080/"
    },
    "id": "PF-xcDVTBWhW",
    "outputId": "09fe4c9c-740d-45b0-b05e-af83a1ca78f1"
   },
   "outputs": [
    {
     "name": "stdout",
     "output_type": "stream",
     "text": [
      "['picture1.jpg', 'Test_images.txt', 'normalglasses.jpg', 'freakles_img_2.jpg', 'statute2.jpg', 'picture4.jpg', 'picture5.jpg', 'picture2.jpg', 'normalglasses2.jpg', 'freakles_img_1.jpg', 'sunglasses.jpg', 'statute.jpg', 'picture3.jpg']\n"
     ]
    }
   ],
   "source": [
    "names = os.listdir('/content/test_images')\n",
    "print(names)"
   ]
  },
  {
   "cell_type": "code",
   "execution_count": 17,
   "metadata": {
    "id": "axRYkqCNUMHI"
   },
   "outputs": [],
   "source": [
    "df = pd.DataFrame((names),columns=['Image_Path'])"
   ]
  },
  {
   "cell_type": "code",
   "execution_count": 18,
   "metadata": {
    "colab": {
     "base_uri": "https://localhost:8080/",
     "height": 206
    },
    "id": "EvhJ3ERxVGxf",
    "outputId": "1a95afc1-ea30-4a7c-c941-aba6c6e99d8e"
   },
   "outputs": [
    {
     "data": {
      "text/html": [
       "<div>\n",
       "<style scoped>\n",
       "    .dataframe tbody tr th:only-of-type {\n",
       "        vertical-align: middle;\n",
       "    }\n",
       "\n",
       "    .dataframe tbody tr th {\n",
       "        vertical-align: top;\n",
       "    }\n",
       "\n",
       "    .dataframe thead th {\n",
       "        text-align: right;\n",
       "    }\n",
       "</style>\n",
       "<table border=\"1\" class=\"dataframe\">\n",
       "  <thead>\n",
       "    <tr style=\"text-align: right;\">\n",
       "      <th></th>\n",
       "      <th>Image_Path</th>\n",
       "    </tr>\n",
       "  </thead>\n",
       "  <tbody>\n",
       "    <tr>\n",
       "      <th>0</th>\n",
       "      <td>picture1.jpg</td>\n",
       "    </tr>\n",
       "    <tr>\n",
       "      <th>1</th>\n",
       "      <td>Test_images.txt</td>\n",
       "    </tr>\n",
       "    <tr>\n",
       "      <th>2</th>\n",
       "      <td>normalglasses.jpg</td>\n",
       "    </tr>\n",
       "    <tr>\n",
       "      <th>3</th>\n",
       "      <td>freakles_img_2.jpg</td>\n",
       "    </tr>\n",
       "    <tr>\n",
       "      <th>4</th>\n",
       "      <td>statute2.jpg</td>\n",
       "    </tr>\n",
       "  </tbody>\n",
       "</table>\n",
       "</div>"
      ],
      "text/plain": [
       "           Image_Path\n",
       "0        picture1.jpg\n",
       "1     Test_images.txt\n",
       "2   normalglasses.jpg\n",
       "3  freakles_img_2.jpg\n",
       "4        statute2.jpg"
      ]
     },
     "execution_count": 18,
     "metadata": {
      "tags": []
     },
     "output_type": "execute_result"
    }
   ],
   "source": [
    "df.head()"
   ]
  },
  {
   "cell_type": "code",
   "execution_count": 3,
   "metadata": {
    "colab": {
     "base_uri": "https://localhost:8080/"
    },
    "id": "YC3lwOPrVILF",
    "outputId": "204846ad-0842-403e-da34-26c6fee404b8"
   },
   "outputs": [
    {
     "ename": "NameError",
     "evalue": "name 'ImageDataGenerator' is not defined",
     "output_type": "error",
     "traceback": [
      "\u001b[1;31m---------------------------------------------------------------------------\u001b[0m",
      "\u001b[1;31mNameError\u001b[0m                                 Traceback (most recent call last)",
      "\u001b[1;32m<ipython-input-3-68670db1a5eb>\u001b[0m in \u001b[0;36m<module>\u001b[1;34m\u001b[0m\n\u001b[1;32m----> 1\u001b[1;33m test_dataGen = ImageDataGenerator(rescale = 1./255,\n\u001b[0m\u001b[0;32m      2\u001b[0m                                   \u001b[0mshear_range\u001b[0m \u001b[1;33m=\u001b[0m \u001b[1;36m0.2\u001b[0m\u001b[1;33m,\u001b[0m\u001b[1;33m\u001b[0m\u001b[1;33m\u001b[0m\u001b[0m\n\u001b[0;32m      3\u001b[0m                                   \u001b[0mzoom_range\u001b[0m \u001b[1;33m=\u001b[0m \u001b[1;36m0.2\u001b[0m\u001b[1;33m,\u001b[0m\u001b[1;33m\u001b[0m\u001b[1;33m\u001b[0m\u001b[0m\n\u001b[0;32m      4\u001b[0m                                   horizontal_flip = True)\n\u001b[0;32m      5\u001b[0m \u001b[0mtest_gen\u001b[0m \u001b[1;33m=\u001b[0m \u001b[0mtest_dataGen\u001b[0m\u001b[1;33m.\u001b[0m\u001b[0mflow_from_dataframe\u001b[0m\u001b[1;33m(\u001b[0m\u001b[0mdf\u001b[0m\u001b[1;33m,\u001b[0m\u001b[0mdirectory\u001b[0m\u001b[1;33m=\u001b[0m\u001b[1;34m'/content/test_images'\u001b[0m\u001b[1;33m,\u001b[0m\u001b[0mx_col\u001b[0m \u001b[1;33m=\u001b[0m \u001b[1;34m'Image_Path'\u001b[0m\u001b[1;33m,\u001b[0m\u001b[0my_col\u001b[0m \u001b[1;33m=\u001b[0m \u001b[1;32mNone\u001b[0m\u001b[1;33m,\u001b[0m\u001b[0mBatch_size\u001b[0m \u001b[1;33m=\u001b[0m \u001b[1;36m1\u001b[0m\u001b[1;33m,\u001b[0m\u001b[0mtarget_size\u001b[0m\u001b[1;33m=\u001b[0m\u001b[1;33m(\u001b[0m\u001b[1;36m512\u001b[0m\u001b[1;33m,\u001b[0m\u001b[1;36m512\u001b[0m\u001b[1;33m)\u001b[0m\u001b[1;33m,\u001b[0m\u001b[0mclass_mode\u001b[0m\u001b[1;33m=\u001b[0m\u001b[1;32mNone\u001b[0m\u001b[1;33m)\u001b[0m\u001b[1;33m\u001b[0m\u001b[1;33m\u001b[0m\u001b[0m\n",
      "\u001b[1;31mNameError\u001b[0m: name 'ImageDataGenerator' is not defined"
     ]
    }
   ],
   "source": [
    "test_dataGen = ImageDataGenerator(rescale = 1./255,\n",
    "                                  shear_range = 0.2,\n",
    "                                  zoom_range = 0.2,\n",
    "                                  horizontal_flip = True)\n",
    "test_gen = test_dataGen.flow_from_dataframe(df,directory='/content/test_images',x_col = 'Image_Path',y_col = None,Batch_size = 1,target_size=(512,512),class_mode=None)\n"
   ]
  },
  {
   "cell_type": "code",
   "execution_count": 20,
   "metadata": {
    "id": "ybmjbGOUVdlG"
   },
   "outputs": [],
   "source": [
    "pred = model.predict(test_gen,batch_size  = 16)"
   ]
  },
  {
   "cell_type": "code",
   "execution_count": 21,
   "metadata": {
    "colab": {
     "base_uri": "https://localhost:8080/"
    },
    "id": "hyRvrU07xfXB",
    "outputId": "bf3b6934-7e2a-4a8c-fdf3-2d7e6015456d"
   },
   "outputs": [
    {
     "data": {
      "text/plain": [
       "array([[9.64312465e-04, 1.13980728e-03, 3.61273880e-04, 4.13601956e-04,\n",
       "        2.50909041e-04, 1.76989182e-04, 1.14610601e-04, 5.96310892e-05,\n",
       "        1.45367987e-04, 3.19312210e-04, 6.19555358e-04, 8.35015476e-01,\n",
       "        1.12512862e-04, 9.05446450e-06, 1.59360607e-05, 3.64918560e-05,\n",
       "        1.55395290e-04, 1.59985840e-01, 1.03910228e-04],\n",
       "       [6.46051834e-04, 1.42007961e-03, 4.82864823e-04, 5.47461794e-04,\n",
       "        2.29877012e-04, 1.97584959e-04, 1.60182768e-04, 8.24132003e-05,\n",
       "        1.60406416e-04, 3.43540683e-04, 5.57393476e-04, 8.88641596e-01,\n",
       "        2.25125710e-04, 9.09082337e-06, 3.18369966e-05, 2.43373779e-05,\n",
       "        3.61072482e-04, 1.05757646e-01, 1.21424098e-04],\n",
       "       [6.73413184e-03, 5.38781146e-03, 2.61641201e-03, 1.60989445e-03,\n",
       "        1.12687168e-03, 1.22930505e-03, 3.33999493e-03, 7.96951412e-04,\n",
       "        8.75805039e-04, 1.19134756e-02, 2.45003286e-03, 2.85494059e-01,\n",
       "        4.70382534e-03, 2.06914730e-04, 2.78700667e-04, 7.18954951e-04,\n",
       "        8.27121548e-04, 6.69355750e-01, 3.33904434e-04],\n",
       "       [2.36002496e-03, 1.61829390e-04, 5.08304183e-05, 2.40617537e-05,\n",
       "        1.24049257e-05, 3.49600668e-05, 2.88694227e-05, 1.57566828e-05,\n",
       "        3.40511579e-05, 1.85419442e-04, 1.11869856e-04, 9.17550683e-01,\n",
       "        2.69315442e-05, 5.55525617e-07, 1.85941099e-06, 3.76915364e-06,\n",
       "        3.38064092e-05, 7.93367103e-02, 2.55631858e-05],\n",
       "       [4.34985524e-03, 1.79411704e-03, 2.70184624e-04, 9.16788878e-04,\n",
       "        8.99533043e-04, 1.97859132e-04, 4.68918472e-04, 2.30785430e-04,\n",
       "        2.76315433e-04, 1.54263782e-03, 4.83269570e-04, 6.49551034e-01,\n",
       "        4.87747137e-04, 2.90391072e-05, 5.01645045e-05, 9.59690296e-05,\n",
       "        5.33160055e-04, 3.37715775e-01, 1.06780783e-04],\n",
       "       [5.50255529e-04, 1.57511316e-03, 1.03209371e-04, 2.17370893e-04,\n",
       "        1.55324873e-04, 6.86580461e-05, 1.85240293e-04, 5.36055304e-05,\n",
       "        7.62770069e-05, 2.46835989e-04, 2.45830306e-04, 8.75078380e-01,\n",
       "        6.81728125e-05, 5.05891921e-06, 1.13857059e-05, 1.20042978e-05,\n",
       "        1.63933131e-04, 1.21138953e-01, 4.43593308e-05],\n",
       "       [2.85601360e-03, 2.37193680e-03, 8.96711659e-04, 1.25540618e-03,\n",
       "        1.20705680e-03, 5.16628264e-04, 1.20378856e-03, 3.51878087e-04,\n",
       "        9.58569348e-04, 1.02262956e-03, 1.11080566e-03, 7.80506313e-01,\n",
       "        8.83802539e-04, 4.51311571e-05, 1.36957373e-04, 2.20131857e-04,\n",
       "        8.80074920e-04, 2.03027189e-01, 5.48874319e-04],\n",
       "       [1.28351357e-02, 3.30693577e-03, 4.22885438e-04, 8.52361729e-04,\n",
       "        4.70569794e-04, 3.30218172e-04, 3.78458702e-04, 3.55877273e-04,\n",
       "        2.57972715e-04, 7.88306468e-04, 1.17719499e-03, 6.42535806e-01,\n",
       "        6.61355560e-04, 3.87137952e-05, 5.44840987e-05, 7.10648674e-05,\n",
       "        7.18243187e-04, 3.34475636e-01, 2.68799020e-04],\n",
       "       [2.26936629e-03, 2.92947050e-03, 3.09356663e-04, 5.00169175e-04,\n",
       "        2.95623875e-04, 1.54354508e-04, 4.25455277e-04, 1.95994449e-04,\n",
       "        6.37968114e-05, 7.12967769e-04, 4.32408560e-04, 1.40190542e-01,\n",
       "        9.52270580e-04, 2.69016182e-05, 2.15281907e-05, 3.20236031e-05,\n",
       "        1.61893637e-04, 8.50278318e-01, 4.75806155e-05],\n",
       "       [3.95743176e-03, 2.10778113e-03, 3.55879107e-04, 1.41557911e-03,\n",
       "        4.62376658e-04, 1.08043758e-04, 3.42405227e-04, 1.79791765e-04,\n",
       "        6.24512206e-04, 6.22304738e-04, 5.32797887e-04, 7.82566071e-01,\n",
       "        7.60162482e-04, 1.46382481e-05, 4.16009862e-05, 8.10950878e-05,\n",
       "        4.79156733e-04, 2.04929426e-01, 4.18876007e-04],\n",
       "       [5.23450691e-03, 4.93166223e-03, 1.20312325e-03, 1.31918094e-03,\n",
       "        9.33938718e-04, 7.51713291e-04, 7.29605206e-04, 3.85203806e-04,\n",
       "        1.22088788e-03, 2.48345919e-03, 2.27736635e-03, 7.64342368e-01,\n",
       "        1.47751544e-03, 5.82524408e-05, 1.34871269e-04, 3.33914504e-04,\n",
       "        8.94456694e-04, 2.10581720e-01, 7.06189894e-04],\n",
       "       [2.57070013e-03, 2.58144108e-03, 7.08136591e-04, 4.14073118e-04,\n",
       "        2.60716159e-04, 4.71325591e-04, 3.33722885e-04, 1.24650818e-04,\n",
       "        2.14827945e-04, 6.73254370e-04, 1.22879958e-03, 7.83050179e-01,\n",
       "        3.55031778e-04, 2.08454712e-05, 3.93442424e-05, 7.64148863e-05,\n",
       "        5.13871142e-04, 2.06214175e-01, 1.48573832e-04]], dtype=float32)"
      ]
     },
     "execution_count": 21,
     "metadata": {
      "tags": []
     },
     "output_type": "execute_result"
    }
   ],
   "source": [
    "pred"
   ]
  },
  {
   "cell_type": "code",
   "execution_count": 21,
   "metadata": {
    "id": "ZKM2SO-VCGtE"
   },
   "outputs": [],
   "source": []
  },
  {
   "cell_type": "code",
   "execution_count": 22,
   "metadata": {
    "id": "TSPUsC7_YRnu"
   },
   "outputs": [],
   "source": [
    "preds =  []\n",
    "for i in range(len(pred)):\n",
    "  pr = []\n",
    "  pr.append(df['Image_Path'].values[i])\n",
    "  for j in range(len(pred[i])):\n",
    "\n",
    "    #for wrinkles and freakles \n",
    "    if (j==0) or (j==1):\n",
    "      if pred[i][j] >0.5:\n",
    "          pr.append(1)\n",
    "      else:\n",
    "        pr.append(1)\n",
    "    #for glasses \n",
    "    if j==2:\n",
    "      z = np.array(pred[i][j:j+3])\n",
    "      #print(z)\n",
    "      #print(np.argmax(z))\n",
    "  \n",
    "      pr.append(np.argmax(z))\n",
    "      \n",
    "    #hair_colour\n",
    "    if j==5:\n",
    "      z = np.array(pred[i][j:j+9])    \n",
    "      pr.append(np.argmax(z))\n",
    "\n",
    "    if j==14:\n",
    "      z = np.array(pred[i][j:])\n",
    "      pr.append(np.argmax(z))\n",
    "\n",
    "  preds.append(pr)"
   ]
  },
  {
   "cell_type": "code",
   "execution_count": 23,
   "metadata": {
    "colab": {
     "base_uri": "https://localhost:8080/"
    },
    "id": "milne_rKpA3V",
    "outputId": "4fad40e6-aee6-431e-e60c-cc7499fd7b3c"
   },
   "outputs": [
    {
     "data": {
      "text/plain": [
       "[['picture1.jpg', 1, 1, 1, 6, 3],\n",
       " ['Test_images.txt', 1, 1, 1, 6, 3],\n",
       " ['normalglasses.jpg', 1, 1, 0, 6, 3],\n",
       " ['freakles_img_2.jpg', 1, 1, 0, 6, 3],\n",
       " ['statute2.jpg', 1, 1, 1, 6, 3],\n",
       " ['picture4.jpg', 1, 1, 1, 6, 3],\n",
       " ['picture5.jpg', 1, 1, 1, 6, 3],\n",
       " ['picture2.jpg', 1, 1, 1, 6, 3],\n",
       " ['normalglasses2.jpg', 1, 1, 1, 6, 3],\n",
       " ['freakles_img_1.jpg', 1, 1, 1, 6, 3],\n",
       " ['sunglasses.jpg', 1, 1, 1, 6, 3],\n",
       " ['statute.jpg', 1, 1, 0, 6, 3]]"
      ]
     },
     "execution_count": 23,
     "metadata": {
      "tags": []
     },
     "output_type": "execute_result"
    }
   ],
   "source": [
    "preds"
   ]
  },
  {
   "cell_type": "code",
   "execution_count": 2,
   "metadata": {
    "id": "Or0nDhJtgvrz"
   },
   "outputs": [
    {
     "ename": "NameError",
     "evalue": "name 'pd' is not defined",
     "output_type": "error",
     "traceback": [
      "\u001b[1;31m---------------------------------------------------------------------------\u001b[0m",
      "\u001b[1;31mNameError\u001b[0m                                 Traceback (most recent call last)",
      "\u001b[1;32m<ipython-input-2-4c8e1c51cbda>\u001b[0m in \u001b[0;36m<module>\u001b[1;34m\u001b[0m\n\u001b[1;32m----> 1\u001b[1;33m \u001b[0mpredictions\u001b[0m \u001b[1;33m=\u001b[0m \u001b[0mpd\u001b[0m\u001b[1;33m.\u001b[0m\u001b[0mDataFrame\u001b[0m\u001b[1;33m(\u001b[0m\u001b[0mpreds\u001b[0m\u001b[1;33m,\u001b[0m\u001b[0mcolumns\u001b[0m \u001b[1;33m=\u001b[0m \u001b[1;33m[\u001b[0m\u001b[1;34m'mage_name'\u001b[0m\u001b[1;33m,\u001b[0m\u001b[1;34m'wrinkles'\u001b[0m\u001b[1;33m,\u001b[0m\u001b[1;34m'freakles'\u001b[0m\u001b[1;33m,\u001b[0m\u001b[1;34m'glasses'\u001b[0m\u001b[1;33m,\u001b[0m\u001b[1;34m'hair_color'\u001b[0m\u001b[1;33m,\u001b[0m\u001b[1;34m'hair_top'\u001b[0m\u001b[1;33m]\u001b[0m\u001b[1;33m)\u001b[0m\u001b[1;33m\u001b[0m\u001b[1;33m\u001b[0m\u001b[0m\n\u001b[0m",
      "\u001b[1;31mNameError\u001b[0m: name 'pd' is not defined"
     ]
    }
   ],
   "source": [
    "predictions = pd.DataFrame(preds,columns = ['mage_name','wrinkles','freakles','glasses','hair_color','hair_top'])"
   ]
  },
  {
   "cell_type": "code",
   "execution_count": 1,
   "metadata": {
    "id": "nsq37WulcgVq"
   },
   "outputs": [
    {
     "ename": "NameError",
     "evalue": "name 'predictions' is not defined",
     "output_type": "error",
     "traceback": [
      "\u001b[1;31m---------------------------------------------------------------------------\u001b[0m",
      "\u001b[1;31mNameError\u001b[0m                                 Traceback (most recent call last)",
      "\u001b[1;32m<ipython-input-1-b1d4a6cafc5a>\u001b[0m in \u001b[0;36m<module>\u001b[1;34m\u001b[0m\n\u001b[1;32m----> 1\u001b[1;33m \u001b[0mpredictions\u001b[0m\u001b[1;33m.\u001b[0m\u001b[0mto_csv\u001b[0m\u001b[1;33m(\u001b[0m\u001b[1;34m'annotations.csv'\u001b[0m\u001b[1;33m)\u001b[0m\u001b[1;33m\u001b[0m\u001b[1;33m\u001b[0m\u001b[0m\n\u001b[0m",
      "\u001b[1;31mNameError\u001b[0m: name 'predictions' is not defined"
     ]
    }
   ],
   "source": [
    "predictions.to_csv('annotations.csv')"
   ]
  },
  {
   "cell_type": "code",
   "execution_count": null,
   "metadata": {
    "id": "phKsM9tGglbp"
   },
   "outputs": [],
   "source": []
  }
 ],
 "metadata": {
  "colab": {
   "collapsed_sections": [],
   "name": "test_code.ipynb",
   "provenance": []
  },
  "kernelspec": {
   "display_name": "Python 3",
   "language": "python",
   "name": "python3"
  },
  "language_info": {
   "codemirror_mode": {
    "name": "ipython",
    "version": 3
   },
   "file_extension": ".py",
   "mimetype": "text/x-python",
   "name": "python",
   "nbconvert_exporter": "python",
   "pygments_lexer": "ipython3",
   "version": "3.8.5"
  }
 },
 "nbformat": 4,
 "nbformat_minor": 1
}
